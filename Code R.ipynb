{
 "cells": [
  {
   "cell_type": "code",
   "execution_count": 1,
   "metadata": {},
   "outputs": [
    {
     "name": "stderr",
     "output_type": "stream",
     "text": [
      "Loading required package: xts\n",
      "\n",
      "Loading required package: zoo\n",
      "\n",
      "\n",
      "Attaching package: 'zoo'\n",
      "\n",
      "\n",
      "The following objects are masked from 'package:base':\n",
      "\n",
      "    as.Date, as.Date.numeric\n",
      "\n",
      "\n",
      "Loading required package: TTR\n",
      "\n",
      "Registered S3 method overwritten by 'quantmod':\n",
      "  method            from\n",
      "  as.zoo.data.frame zoo \n",
      "\n",
      "'getSymbols' currently uses auto.assign=TRUE by default, but will\n",
      "use auto.assign=FALSE in 0.5-0. You will still be able to use\n",
      "'loadSymbols' to automatically load data. getOption(\"getSymbols.env\")\n",
      "and getOption(\"getSymbols.auto.assign\") will still be checked for\n",
      "alternate defaults.\n",
      "\n",
      "This message is shown once per session and may be disabled by setting \n",
      "options(\"getSymbols.warning4.0\"=FALSE). See ?getSymbols for details.\n",
      "\n",
      "\n"
     ]
    },
    {
     "data": {
      "text/plain": [
       "Daily periodicity from 2016-01-04 to 2020-12-31 "
      ]
     },
     "metadata": {},
     "output_type": "display_data"
    },
    {
     "data": {
      "text/plain": [
       "           DJI.Open DJI.High  DJI.Low DJI.Close DJI.Volume DJI.Adjusted\n",
       "2016-01-04 17405.48 17405.48 16957.63  17148.94  148060000     17148.94\n",
       "2016-01-05 17147.50 17195.84 17038.61  17158.66  105750000     17158.66\n",
       "2016-01-06 17154.83 17154.83 16817.62  16906.51  120250000     16906.51\n",
       "2016-01-07 16888.36 16888.36 16463.63  16514.10  176240000     16514.10\n",
       "2016-01-08 16519.17 16651.89 16314.57  16346.45  141850000     16346.45\n",
       "2016-01-11 16358.71 16461.85 16232.03  16398.57  127790000     16398.57"
      ]
     },
     "metadata": {},
     "output_type": "display_data"
    }
   ],
   "source": [
    "#Downloading Data from Yahoo Finance using the Quantmod Library \n",
    "library(quantmod)\n",
    "DJ<- getSymbols(\"^DJI\", from=\"2016-01-01\", to = \"2021-01-01\", auto.assign = FALSE)\n",
    "periodicity(DJ)\n",
    "head(DJ)"
   ]
  },
  {
   "cell_type": "code",
   "execution_count": 2,
   "metadata": {},
   "outputs": [
    {
     "data": {
      "text/html": [
       "1259"
      ],
      "text/latex": [
       "1259"
      ],
      "text/markdown": [
       "1259"
      ],
      "text/plain": [
       "[1] 1259"
      ]
     },
     "metadata": {},
     "output_type": "display_data"
    },
    {
     "data": {
      "text/html": [
       "1259"
      ],
      "text/latex": [
       "1259"
      ],
      "text/markdown": [
       "1259"
      ],
      "text/plain": [
       "[1] 1259"
      ]
     },
     "metadata": {},
     "output_type": "display_data"
    },
    {
     "data": {
      "image/png": "[encoded data removed]",
      "text/plain": [
       "plot without title"
      ]
     },
     "metadata": {
      "image/png": {
       "height": 420,
       "width": 420
      }
     },
     "output_type": "display_data"
    }
   ],
   "source": [
    "#Removing observations with missing values and Plotting the Time Series\n",
    "nrow(DJ)\n",
    "DJ<- na.omit(DJ)\n",
    "nrow(DJ)\n",
    "chart_Series(DJ)"
   ]
  },
  {
   "cell_type": "code",
   "execution_count": 3,
   "metadata": {},
   "outputs": [
    {
     "data": {
      "text/plain": [
       "           DJI.Open DJI.High  DJI.Low DJI.Close DJI.Volume DJI.Adjusted\n",
       "2016-01-04 17405.48 17405.48 16957.63  17148.94  148060000     17148.94\n",
       "2016-01-05 17147.50 17195.84 17038.61  17158.66  105750000     17158.66\n",
       "2016-01-06 17154.83 17154.83 16817.62  16906.51  120250000     16906.51\n",
       "2016-01-07 16888.36 16888.36 16463.63  16514.10  176240000     16514.10\n",
       "2016-01-08 16519.17 16651.89 16314.57  16346.45  141850000     16346.45\n",
       "2016-01-11 16358.71 16461.85 16232.03  16398.57  127790000     16398.57\n",
       "           Open.Close High.Low Diff.Volume\n",
       "2016-01-04  256.54102 447.8496          NA\n",
       "2016-01-05  -11.16016 157.2305   -42310000\n",
       "2016-01-06  248.32031 337.2109    14500000\n",
       "2016-01-07  374.25977 424.7285    55990000\n",
       "2016-01-08  172.71973 337.3203   -34390000\n",
       "2016-01-11  -39.86035 229.8193   -14060000"
      ]
     },
     "metadata": {},
     "output_type": "display_data"
    }
   ],
   "source": [
    "#Adding the Independent Variables\n",
    "#Open-Close Calculation\n",
    "n<-1259\n",
    "i=1\n",
    "Open.Close<-numeric(1259\n",
    ")\n",
    "for(i in 1:n){\n",
    "    Open.Close[i]<-Op(DJ)[i] - Cl(DJ)[i]\n",
    "    i<-i+1}\n",
    "DJ<-cbind(DJ, Open.Close)\n",
    "\n",
    "#High-Low Calculation\n",
    "j=1\n",
    "High.Low<-numeric(1259)\n",
    "for (j in 1:1259){\n",
    "    High.Low[j]<- Hi(DJ)[j] - Lo(DJ)[j]\n",
    "    j<-j+1}\n",
    "DJ<-cbind(DJ,High.Low)\n",
    "\n",
    "#RDiff-Volume Calculation\n",
    "Diff.Volume<-numeric(1259)\n",
    "Diff.Volume <- Vo(DJ) - lag(Vo(DJ), 1)\n",
    "DJ<-cbind(DJ, Diff.Volume)\n",
    "names(DJ)[9]<-\"Diff.Volume\"\n",
    "head(DJ)"
   ]
  },
  {
   "cell_type": "code",
   "execution_count": 4,
   "metadata": {},
   "outputs": [
    {
     "data": {
      "text/plain": [
       "           DJI.Open DJI.High  DJI.Low DJI.Close DJI.Volume DJI.Adjusted\n",
       "2016-01-04 17405.48 17405.48 16957.63  17148.94  148060000     17148.94\n",
       "2016-01-05 17147.50 17195.84 17038.61  17158.66  105750000     17158.66\n",
       "2016-01-06 17154.83 17154.83 16817.62  16906.51  120250000     16906.51\n",
       "2016-01-07 16888.36 16888.36 16463.63  16514.10  176240000     16514.10\n",
       "2016-01-08 16519.17 16651.89 16314.57  16346.45  141850000     16346.45\n",
       "2016-01-11 16358.71 16461.85 16232.03  16398.57  127790000     16398.57\n",
       "           Open.Close High.Low Diff.Volume     Returns\n",
       "2016-01-04  256.54102 447.8496          NA          NA\n",
       "2016-01-05  -11.16016 157.2305   -42310000  0.05668399\n",
       "2016-01-06  248.32031 337.2109    14500000 -1.46952261\n",
       "2016-01-07  374.25977 424.7285    55990000 -2.32105954\n",
       "2016-01-08  172.71973 337.3203   -34390000 -1.01518955\n",
       "2016-01-11  -39.86035 229.8193   -14060000  0.31884671"
      ]
     },
     "metadata": {},
     "output_type": "display_data"
    },
    {
     "data": {
      "text/html": [
       "<table class=\"dataframe\">\n",
       "<caption>A data.frame: 6 × 11</caption>\n",
       "<thead>\n",
       "\t<tr><th></th><th scope=col>DJI.Open</th><th scope=col>DJI.High</th><th scope=col>DJI.Low</th><th scope=col>DJI.Close</th><th scope=col>DJI.Volume</th><th scope=col>DJI.Adjusted</th><th scope=col>Open.Close</th><th scope=col>High.Low</th><th scope=col>Diff.Volume</th><th scope=col>Returns</th><th scope=col>Y</th></tr>\n",
       "\t<tr><th></th><th scope=col>&lt;dbl&gt;</th><th scope=col>&lt;dbl&gt;</th><th scope=col>&lt;dbl&gt;</th><th scope=col>&lt;dbl&gt;</th><th scope=col>&lt;dbl&gt;</th><th scope=col>&lt;dbl&gt;</th><th scope=col>&lt;dbl&gt;</th><th scope=col>&lt;dbl&gt;</th><th scope=col>&lt;dbl&gt;</th><th scope=col>&lt;dbl&gt;</th><th scope=col>&lt;dbl&gt;</th></tr>\n",
       "</thead>\n",
       "<tbody>\n",
       "\t<tr><th scope=row>2016-01-04</th><td>17405.48</td><td>17405.48</td><td>16957.63</td><td>17148.94</td><td>148060000</td><td>17148.94</td><td>256.54102</td><td>447.8496</td><td>       NA</td><td>         NA</td><td>NA</td></tr>\n",
       "\t<tr><th scope=row>2016-01-05</th><td>17147.50</td><td>17195.84</td><td>17038.61</td><td>17158.66</td><td>105750000</td><td>17158.66</td><td>-11.16016</td><td>157.2305</td><td>-42310000</td><td> 0.05668399</td><td> 1</td></tr>\n",
       "\t<tr><th scope=row>2016-01-06</th><td>17154.83</td><td>17154.83</td><td>16817.62</td><td>16906.51</td><td>120250000</td><td>16906.51</td><td>248.32031</td><td>337.2109</td><td> 14500000</td><td>-1.46952261</td><td>-1</td></tr>\n",
       "\t<tr><th scope=row>2016-01-07</th><td>16888.36</td><td>16888.36</td><td>16463.63</td><td>16514.10</td><td>176240000</td><td>16514.10</td><td>374.25977</td><td>424.7285</td><td> 55990000</td><td>-2.32105954</td><td>-1</td></tr>\n",
       "\t<tr><th scope=row>2016-01-08</th><td>16519.17</td><td>16651.89</td><td>16314.57</td><td>16346.45</td><td>141850000</td><td>16346.45</td><td>172.71973</td><td>337.3203</td><td>-34390000</td><td>-1.01518955</td><td>-1</td></tr>\n",
       "\t<tr><th scope=row>2016-01-11</th><td>16358.71</td><td>16461.85</td><td>16232.03</td><td>16398.57</td><td>127790000</td><td>16398.57</td><td>-39.86035</td><td>229.8193</td><td>-14060000</td><td> 0.31884671</td><td> 1</td></tr>\n",
       "</tbody>\n",
       "</table>\n"
      ],
      "text/latex": [
       "A data.frame: 6 × 11\n",
       "\\begin{tabular}{r|lllllllllll}\n",
       "  & DJI.Open & DJI.High & DJI.Low & DJI.Close & DJI.Volume & DJI.Adjusted & Open.Close & High.Low & Diff.Volume & Returns & Y\\\\\n",
       "  & <dbl> & <dbl> & <dbl> & <dbl> & <dbl> & <dbl> & <dbl> & <dbl> & <dbl> & <dbl> & <dbl>\\\\\n",
       "\\hline\n",
       "\t2016-01-04 & 17405.48 & 17405.48 & 16957.63 & 17148.94 & 148060000 & 17148.94 & 256.54102 & 447.8496 &        NA &          NA & NA\\\\\n",
       "\t2016-01-05 & 17147.50 & 17195.84 & 17038.61 & 17158.66 & 105750000 & 17158.66 & -11.16016 & 157.2305 & -42310000 &  0.05668399 &  1\\\\\n",
       "\t2016-01-06 & 17154.83 & 17154.83 & 16817.62 & 16906.51 & 120250000 & 16906.51 & 248.32031 & 337.2109 &  14500000 & -1.46952261 & -1\\\\\n",
       "\t2016-01-07 & 16888.36 & 16888.36 & 16463.63 & 16514.10 & 176240000 & 16514.10 & 374.25977 & 424.7285 &  55990000 & -2.32105954 & -1\\\\\n",
       "\t2016-01-08 & 16519.17 & 16651.89 & 16314.57 & 16346.45 & 141850000 & 16346.45 & 172.71973 & 337.3203 & -34390000 & -1.01518955 & -1\\\\\n",
       "\t2016-01-11 & 16358.71 & 16461.85 & 16232.03 & 16398.57 & 127790000 & 16398.57 & -39.86035 & 229.8193 & -14060000 &  0.31884671 &  1\\\\\n",
       "\\end{tabular}\n"
      ],
      "text/markdown": [
       "\n",
       "A data.frame: 6 × 11\n",
       "\n",
       "| <!--/--> | DJI.Open &lt;dbl&gt; | DJI.High &lt;dbl&gt; | DJI.Low &lt;dbl&gt; | DJI.Close &lt;dbl&gt; | DJI.Volume &lt;dbl&gt; | DJI.Adjusted &lt;dbl&gt; | Open.Close &lt;dbl&gt; | High.Low &lt;dbl&gt; | Diff.Volume &lt;dbl&gt; | Returns &lt;dbl&gt; | Y &lt;dbl&gt; |\n",
       "|---|---|---|---|---|---|---|---|---|---|---|---|\n",
       "| 2016-01-04 | 17405.48 | 17405.48 | 16957.63 | 17148.94 | 148060000 | 17148.94 | 256.54102 | 447.8496 |        NA |          NA | NA |\n",
       "| 2016-01-05 | 17147.50 | 17195.84 | 17038.61 | 17158.66 | 105750000 | 17158.66 | -11.16016 | 157.2305 | -42310000 |  0.05668399 |  1 |\n",
       "| 2016-01-06 | 17154.83 | 17154.83 | 16817.62 | 16906.51 | 120250000 | 16906.51 | 248.32031 | 337.2109 |  14500000 | -1.46952261 | -1 |\n",
       "| 2016-01-07 | 16888.36 | 16888.36 | 16463.63 | 16514.10 | 176240000 | 16514.10 | 374.25977 | 424.7285 |  55990000 | -2.32105954 | -1 |\n",
       "| 2016-01-08 | 16519.17 | 16651.89 | 16314.57 | 16346.45 | 141850000 | 16346.45 | 172.71973 | 337.3203 | -34390000 | -1.01518955 | -1 |\n",
       "| 2016-01-11 | 16358.71 | 16461.85 | 16232.03 | 16398.57 | 127790000 | 16398.57 | -39.86035 | 229.8193 | -14060000 |  0.31884671 |  1 |\n",
       "\n"
      ],
      "text/plain": [
       "           DJI.Open DJI.High DJI.Low  DJI.Close DJI.Volume DJI.Adjusted\n",
       "2016-01-04 17405.48 17405.48 16957.63 17148.94  148060000  17148.94    \n",
       "2016-01-05 17147.50 17195.84 17038.61 17158.66  105750000  17158.66    \n",
       "2016-01-06 17154.83 17154.83 16817.62 16906.51  120250000  16906.51    \n",
       "2016-01-07 16888.36 16888.36 16463.63 16514.10  176240000  16514.10    \n",
       "2016-01-08 16519.17 16651.89 16314.57 16346.45  141850000  16346.45    \n",
       "2016-01-11 16358.71 16461.85 16232.03 16398.57  127790000  16398.57    \n",
       "           Open.Close High.Low Diff.Volume Returns     Y \n",
       "2016-01-04 256.54102  447.8496        NA            NA NA\n",
       "2016-01-05 -11.16016  157.2305 -42310000    0.05668399  1\n",
       "2016-01-06 248.32031  337.2109  14500000   -1.46952261 -1\n",
       "2016-01-07 374.25977  424.7285  55990000   -2.32105954 -1\n",
       "2016-01-08 172.71973  337.3203 -34390000   -1.01518955 -1\n",
       "2016-01-11 -39.86035  229.8193 -14060000    0.31884671  1"
      ]
     },
     "metadata": {},
     "output_type": "display_data"
    },
    {
     "data": {
      "text/html": [
       "<table class=\"dataframe\">\n",
       "<caption>A data.frame: 6 × 12</caption>\n",
       "<thead>\n",
       "\t<tr><th></th><th scope=col>DJI.Open</th><th scope=col>DJI.High</th><th scope=col>DJI.Low</th><th scope=col>DJI.Close</th><th scope=col>DJI.Volume</th><th scope=col>DJI.Adjusted</th><th scope=col>Open.Close</th><th scope=col>High.Low</th><th scope=col>Diff.Volume</th><th scope=col>Returns</th><th scope=col>Y</th><th scope=col>B.S</th></tr>\n",
       "\t<tr><th></th><th scope=col>&lt;dbl&gt;</th><th scope=col>&lt;dbl&gt;</th><th scope=col>&lt;dbl&gt;</th><th scope=col>&lt;dbl&gt;</th><th scope=col>&lt;dbl&gt;</th><th scope=col>&lt;dbl&gt;</th><th scope=col>&lt;dbl&gt;</th><th scope=col>&lt;dbl&gt;</th><th scope=col>&lt;dbl&gt;</th><th scope=col>&lt;dbl&gt;</th><th scope=col>&lt;dbl&gt;</th><th scope=col>&lt;chr&gt;</th></tr>\n",
       "</thead>\n",
       "<tbody>\n",
       "\t<tr><th scope=row>2016-01-04</th><td>17405.48</td><td>17405.48</td><td>16957.63</td><td>17148.94</td><td>148060000</td><td>17148.94</td><td>256.54102</td><td>447.8496</td><td>       NA</td><td>         NA</td><td>NA</td><td>NA  </td></tr>\n",
       "\t<tr><th scope=row>2016-01-05</th><td>17147.50</td><td>17195.84</td><td>17038.61</td><td>17158.66</td><td>105750000</td><td>17158.66</td><td>-11.16016</td><td>157.2305</td><td>-42310000</td><td> 0.05668399</td><td> 1</td><td>Buy </td></tr>\n",
       "\t<tr><th scope=row>2016-01-06</th><td>17154.83</td><td>17154.83</td><td>16817.62</td><td>16906.51</td><td>120250000</td><td>16906.51</td><td>248.32031</td><td>337.2109</td><td> 14500000</td><td>-1.46952261</td><td>-1</td><td>Sell</td></tr>\n",
       "\t<tr><th scope=row>2016-01-07</th><td>16888.36</td><td>16888.36</td><td>16463.63</td><td>16514.10</td><td>176240000</td><td>16514.10</td><td>374.25977</td><td>424.7285</td><td> 55990000</td><td>-2.32105954</td><td>-1</td><td>Sell</td></tr>\n",
       "\t<tr><th scope=row>2016-01-08</th><td>16519.17</td><td>16651.89</td><td>16314.57</td><td>16346.45</td><td>141850000</td><td>16346.45</td><td>172.71973</td><td>337.3203</td><td>-34390000</td><td>-1.01518955</td><td>-1</td><td>Sell</td></tr>\n",
       "\t<tr><th scope=row>2016-01-11</th><td>16358.71</td><td>16461.85</td><td>16232.03</td><td>16398.57</td><td>127790000</td><td>16398.57</td><td>-39.86035</td><td>229.8193</td><td>-14060000</td><td> 0.31884671</td><td> 1</td><td>Buy </td></tr>\n",
       "</tbody>\n",
       "</table>\n"
      ],
      "text/latex": [
       "A data.frame: 6 × 12\n",
       "\\begin{tabular}{r|llllllllllll}\n",
       "  & DJI.Open & DJI.High & DJI.Low & DJI.Close & DJI.Volume & DJI.Adjusted & Open.Close & High.Low & Diff.Volume & Returns & Y & B.S\\\\\n",
       "  & <dbl> & <dbl> & <dbl> & <dbl> & <dbl> & <dbl> & <dbl> & <dbl> & <dbl> & <dbl> & <dbl> & <chr>\\\\\n",
       "\\hline\n",
       "\t2016-01-04 & 17405.48 & 17405.48 & 16957.63 & 17148.94 & 148060000 & 17148.94 & 256.54102 & 447.8496 &        NA &          NA & NA & NA  \\\\\n",
       "\t2016-01-05 & 17147.50 & 17195.84 & 17038.61 & 17158.66 & 105750000 & 17158.66 & -11.16016 & 157.2305 & -42310000 &  0.05668399 &  1 & Buy \\\\\n",
       "\t2016-01-06 & 17154.83 & 17154.83 & 16817.62 & 16906.51 & 120250000 & 16906.51 & 248.32031 & 337.2109 &  14500000 & -1.46952261 & -1 & Sell\\\\\n",
       "\t2016-01-07 & 16888.36 & 16888.36 & 16463.63 & 16514.10 & 176240000 & 16514.10 & 374.25977 & 424.7285 &  55990000 & -2.32105954 & -1 & Sell\\\\\n",
       "\t2016-01-08 & 16519.17 & 16651.89 & 16314.57 & 16346.45 & 141850000 & 16346.45 & 172.71973 & 337.3203 & -34390000 & -1.01518955 & -1 & Sell\\\\\n",
       "\t2016-01-11 & 16358.71 & 16461.85 & 16232.03 & 16398.57 & 127790000 & 16398.57 & -39.86035 & 229.8193 & -14060000 &  0.31884671 &  1 & Buy \\\\\n",
       "\\end{tabular}\n"
      ],
      "text/markdown": [
       "\n",
       "A data.frame: 6 × 12\n",
       "\n",
       "| <!--/--> | DJI.Open &lt;dbl&gt; | DJI.High &lt;dbl&gt; | DJI.Low &lt;dbl&gt; | DJI.Close &lt;dbl&gt; | DJI.Volume &lt;dbl&gt; | DJI.Adjusted &lt;dbl&gt; | Open.Close &lt;dbl&gt; | High.Low &lt;dbl&gt; | Diff.Volume &lt;dbl&gt; | Returns &lt;dbl&gt; | Y &lt;dbl&gt; | B.S &lt;chr&gt; |\n",
       "|---|---|---|---|---|---|---|---|---|---|---|---|---|\n",
       "| 2016-01-04 | 17405.48 | 17405.48 | 16957.63 | 17148.94 | 148060000 | 17148.94 | 256.54102 | 447.8496 |        NA |          NA | NA | NA   |\n",
       "| 2016-01-05 | 17147.50 | 17195.84 | 17038.61 | 17158.66 | 105750000 | 17158.66 | -11.16016 | 157.2305 | -42310000 |  0.05668399 |  1 | Buy  |\n",
       "| 2016-01-06 | 17154.83 | 17154.83 | 16817.62 | 16906.51 | 120250000 | 16906.51 | 248.32031 | 337.2109 |  14500000 | -1.46952261 | -1 | Sell |\n",
       "| 2016-01-07 | 16888.36 | 16888.36 | 16463.63 | 16514.10 | 176240000 | 16514.10 | 374.25977 | 424.7285 |  55990000 | -2.32105954 | -1 | Sell |\n",
       "| 2016-01-08 | 16519.17 | 16651.89 | 16314.57 | 16346.45 | 141850000 | 16346.45 | 172.71973 | 337.3203 | -34390000 | -1.01518955 | -1 | Sell |\n",
       "| 2016-01-11 | 16358.71 | 16461.85 | 16232.03 | 16398.57 | 127790000 | 16398.57 | -39.86035 | 229.8193 | -14060000 |  0.31884671 |  1 | Buy  |\n",
       "\n"
      ],
      "text/plain": [
       "           DJI.Open DJI.High DJI.Low  DJI.Close DJI.Volume DJI.Adjusted\n",
       "2016-01-04 17405.48 17405.48 16957.63 17148.94  148060000  17148.94    \n",
       "2016-01-05 17147.50 17195.84 17038.61 17158.66  105750000  17158.66    \n",
       "2016-01-06 17154.83 17154.83 16817.62 16906.51  120250000  16906.51    \n",
       "2016-01-07 16888.36 16888.36 16463.63 16514.10  176240000  16514.10    \n",
       "2016-01-08 16519.17 16651.89 16314.57 16346.45  141850000  16346.45    \n",
       "2016-01-11 16358.71 16461.85 16232.03 16398.57  127790000  16398.57    \n",
       "           Open.Close High.Low Diff.Volume Returns     Y  B.S \n",
       "2016-01-04 256.54102  447.8496        NA            NA NA NA  \n",
       "2016-01-05 -11.16016  157.2305 -42310000    0.05668399  1 Buy \n",
       "2016-01-06 248.32031  337.2109  14500000   -1.46952261 -1 Sell\n",
       "2016-01-07 374.25977  424.7285  55990000   -2.32105954 -1 Sell\n",
       "2016-01-08 172.71973  337.3203 -34390000   -1.01518955 -1 Sell\n",
       "2016-01-11 -39.86035  229.8193 -14060000    0.31884671  1 Buy "
      ]
     },
     "metadata": {},
     "output_type": "display_data"
    }
   ],
   "source": [
    "#Adding the dependent Variable\n",
    "#Returns Calculation\n",
    "Returns<-numeric(1259)\n",
    "Returns  <- 100 * (Ad(DJ) - lag(Ad(DJ), 1)) / lag(Ad(DJ),1)\n",
    "DJ<-cbind(DJ,Returns)\n",
    "names(DJ)[10]<-\"Returns\"\n",
    "head(DJ)\n",
    "\n",
    "#Coversion in Factor\n",
    "DJ<-DJ[-1259,]\n",
    "Y<-ifelse(DJ$Returns<0,-1,1)\n",
    "DJ<-cbind.data.frame(DJ,Y)\n",
    "names(DJ)[11]<-\"Y\"\n",
    "head(DJ)\n",
    "\n",
    "B.S<-as.factor(Y)\n",
    "B.S<-ifelse(Y==-1, \"Sell\", \"Buy\")\n",
    "DJ<-cbind.data.frame(DJ,B.S)\n",
    "names(DJ)[12]<-\"B.S\"\n",
    "head(DJ)\n"
   ]
  },
  {
   "cell_type": "code",
   "execution_count": 5,
   "metadata": {},
   "outputs": [],
   "source": [
    "#Data split into 80% and 20%\n",
    "train<-DJ[2:1007,]\n",
    "validate<-DJ[1007:1259,]"
   ]
  },
  {
   "cell_type": "code",
   "execution_count": 6,
   "metadata": {},
   "outputs": [
    {
     "name": "stderr",
     "output_type": "stream",
     "text": [
      "Loading required package: grid\n",
      "\n",
      "Loading required package: mvtnorm\n",
      "\n",
      "Loading required package: modeltools\n",
      "\n",
      "Loading required package: stats4\n",
      "\n",
      "Loading required package: strucchange\n",
      "\n",
      "Loading required package: sandwich\n",
      "\n"
     ]
    },
    {
     "data": {
      "text/plain": [
       "\n",
       "\t Conditional inference tree with 4 terminal nodes\n",
       "\n",
       "Response:  B.S \n",
       "Inputs:  Open.Close, High.Low, Diff.Volume \n",
       "Number of observations:  1006 \n",
       "\n",
       "1) Open.Close <= 8.119141; criterion = 1, statistic = 363.714\n",
       "  2) Open.Close <= -30.40039; criterion = 1, statistic = 33.172\n",
       "    3)*  weights = 422 \n",
       "  2) Open.Close > -30.40039\n",
       "    4)*  weights = 175 \n",
       "1) Open.Close > 8.119141\n",
       "  5) Open.Close <= 34.20117; criterion = 1, statistic = 16.54\n",
       "    6)*  weights = 107 \n",
       "  5) Open.Close > 34.20117\n",
       "    7)*  weights = 302 "
      ]
     },
     "metadata": {},
     "output_type": "display_data"
    },
    {
     "data": {
      "image/png": "[encoded data removed]",
      "text/plain": [
       "plot without title"
      ]
     },
     "metadata": {
      "image/png": {
       "height": 420,
       "width": 420
      }
     },
     "output_type": "display_data"
    }
   ],
   "source": [
    "#Modelling the CART Decision Tree using the Party Library\n",
    "library(party)\n",
    "train$B.S <- as.factor(train$B.S)\n",
    "tree<-ctree(B.S~ Open.Close+High.Low+Diff.Volume, data = train)\n",
    "tree\n",
    "plot(tree)"
   ]
  },
  {
   "cell_type": "code",
   "execution_count": 7,
   "metadata": {},
   "outputs": [
    {
     "data": {
      "text/plain": [
       "\n",
       "Call:\n",
       "C5.0.formula(formula = B.S ~ Diff.Volume + Open.Close + High.Low, data = train)\n",
       "\n",
       "\n",
       "C5.0 [Release 2.07 GPL Edition]  \tSun Aug 29 13:34:58 2021\n",
       "-------------------------------\n",
       "\n",
       "Class specified by attribute `outcome'\n",
       "\n",
       "Read 1006 cases (4 attributes) from undefined.data\n",
       "\n",
       "Decision tree:\n",
       "\n",
       "Open.Close <= 8.119141: Buy (597/79)\n",
       "Open.Close > 8.119141: Sell (409/43)\n",
       "\n",
       "\n",
       "Evaluation on training data (1006 cases):\n",
       "\n",
       "\t    Decision Tree   \n",
       "\t  ----------------  \n",
       "\t  Size      Errors  \n",
       "\n",
       "\t     2  122(12.1%)   <<\n",
       "\n",
       "\n",
       "\t   (a)   (b)    <-classified as\n",
       "\t  ----  ----\n",
       "\t   518    43    (a): class Buy\n",
       "\t    79   366    (b): class Sell\n",
       "\n",
       "\n",
       "\tAttribute usage:\n",
       "\n",
       "\t100.00%\tOpen.Close\n",
       "\n",
       "\n",
       "Time: 0.0 secs\n"
      ]
     },
     "metadata": {},
     "output_type": "display_data"
    },
    {
     "data": {
      "image/png": "[encoded data removed]",
      "text/plain": [
       "plot without title"
      ]
     },
     "metadata": {
      "image/png": {
       "height": 420,
       "width": 420
      }
     },
     "output_type": "display_data"
    }
   ],
   "source": [
    "#Modelling the C5.0 Decision Tree\n",
    "library(C50)\n",
    "m2<-C5.0(B.S~Diff.Volume+Open.Close+High.Low, data= train)\n",
    "summary(m2)\n",
    "plot(m2)"
   ]
  },
  {
   "cell_type": "code",
   "execution_count": 8,
   "metadata": {},
   "outputs": [
    {
     "name": "stderr",
     "output_type": "stream",
     "text": [
      "randomForest 4.6-14\n",
      "\n",
      "Type rfNews() to see new features/changes/bug fixes.\n",
      "\n"
     ]
    },
    {
     "data": {
      "image/png": "[encoded data removed]",
      "text/plain": [
       "Plot with title \"rf\""
      ]
     },
     "metadata": {
      "image/png": {
       "height": 420,
       "width": 420
      }
     },
     "output_type": "display_data"
    },
    {
     "data": {
      "image/png": "[encoded data removed]",
      "text/plain": [
       "Plot with title \"rf1\""
      ]
     },
     "metadata": {
      "image/png": {
       "height": 420,
       "width": 420
      }
     },
     "output_type": "display_data"
    }
   ],
   "source": [
    "#Creating the Random Forest Model\n",
    "library(randomForest)\n",
    "set.seed(222)\n",
    "rf<-randomForest(B.S~Diff.Volume + Open.Close + High.Low, data = train)\n",
    "plot(rf)\n",
    "\n",
    "#With 100 Trees in the Data Test\n",
    "set.seed(222)\n",
    "rf1<-randomForest(B.S~Diff.Volume+Open.Close+High.Low, data=train,\n",
    "                  ntree = 100,\n",
    "                  mtry = 3,\n",
    "                  importance = TRUE,\n",
    "                  proximity = TRUE)\n",
    "plot(rf1)"
   ]
  },
  {
   "cell_type": "code",
   "execution_count": 9,
   "metadata": {},
   "outputs": [
    {
     "data": {
      "text/html": [
       "1258"
      ],
      "text/latex": [
       "1258"
      ],
      "text/markdown": [
       "1258"
      ],
      "text/plain": [
       "[1] 1258"
      ]
     },
     "metadata": {},
     "output_type": "display_data"
    },
    {
     "data": {
      "text/html": [
       "1257"
      ],
      "text/latex": [
       "1257"
      ],
      "text/markdown": [
       "1257"
      ],
      "text/plain": [
       "[1] 1257"
      ]
     },
     "metadata": {},
     "output_type": "display_data"
    }
   ],
   "source": [
    "nrow(DJ)\n",
    "DJ<- na.omit(DJ)\n",
    "nrow(DJ)"
   ]
  },
  {
   "cell_type": "code",
   "execution_count": 10,
   "metadata": {},
   "outputs": [
    {
     "data": {
      "text/html": [
       "<table class=\"dataframe\">\n",
       "<caption>A data.frame: 6 × 13</caption>\n",
       "<thead>\n",
       "\t<tr><th></th><th scope=col>DJI.Open</th><th scope=col>DJI.High</th><th scope=col>DJI.Low</th><th scope=col>DJI.Close</th><th scope=col>DJI.Volume</th><th scope=col>DJI.Adjusted</th><th scope=col>Open.Close</th><th scope=col>High.Low</th><th scope=col>Diff.Volume</th><th scope=col>Returns</th><th scope=col>Y</th><th scope=col>B.S</th><th scope=col>ANN</th></tr>\n",
       "\t<tr><th></th><th scope=col>&lt;dbl&gt;</th><th scope=col>&lt;dbl&gt;</th><th scope=col>&lt;dbl&gt;</th><th scope=col>&lt;dbl&gt;</th><th scope=col>&lt;dbl&gt;</th><th scope=col>&lt;dbl&gt;</th><th scope=col>&lt;dbl&gt;</th><th scope=col>&lt;dbl&gt;</th><th scope=col>&lt;dbl&gt;</th><th scope=col>&lt;dbl&gt;</th><th scope=col>&lt;dbl&gt;</th><th scope=col>&lt;chr&gt;</th><th scope=col>&lt;dbl&gt;</th></tr>\n",
       "</thead>\n",
       "<tbody>\n",
       "\t<tr><th scope=row>2016-01-05</th><td>17147.50</td><td>17195.84</td><td>17038.61</td><td>17158.66</td><td>105750000</td><td>17158.66</td><td>0.5074253</td><td>0.06534027</td><td>0.5344779</td><td> 0.05668399</td><td> 1</td><td>Buy </td><td>1</td></tr>\n",
       "\t<tr><th scope=row>2016-01-06</th><td>17154.83</td><td>17154.83</td><td>16817.62</td><td>16906.51</td><td>120250000</td><td>16906.51</td><td>0.6170894</td><td>0.16162251</td><td>0.5897067</td><td>-1.46952261</td><td>-1</td><td>Sell</td><td>0</td></tr>\n",
       "\t<tr><th scope=row>2016-01-07</th><td>16888.36</td><td>16888.36</td><td>16463.63</td><td>16514.10</td><td>176240000</td><td>16514.10</td><td>0.6703151</td><td>0.20844087</td><td>0.6300419</td><td>-2.32105954</td><td>-1</td><td>Sell</td><td>0</td></tr>\n",
       "\t<tr><th scope=row>2016-01-08</th><td>16519.17</td><td>16651.89</td><td>16314.57</td><td>16346.45</td><td>141850000</td><td>16346.45</td><td>0.5851384</td><td>0.16168103</td><td>0.5421775</td><td>-1.01518955</td><td>-1</td><td>Sell</td><td>0</td></tr>\n",
       "\t<tr><th scope=row>2016-01-11</th><td>16358.71</td><td>16461.85</td><td>16232.03</td><td>16398.57</td><td>127790000</td><td>16398.57</td><td>0.4952958</td><td>0.10417237</td><td>0.5619416</td><td> 0.31884671</td><td> 1</td><td>Buy </td><td>1</td></tr>\n",
       "\t<tr><th scope=row>2016-01-12</th><td>16419.11</td><td>16591.35</td><td>16322.07</td><td>16516.22</td><td>117480000</td><td>16516.22</td><td>0.4710998</td><td>0.12528185</td><td>0.5655872</td><td> 0.71744297</td><td> 1</td><td>Buy </td><td>1</td></tr>\n",
       "</tbody>\n",
       "</table>\n"
      ],
      "text/latex": [
       "A data.frame: 6 × 13\n",
       "\\begin{tabular}{r|lllllllllllll}\n",
       "  & DJI.Open & DJI.High & DJI.Low & DJI.Close & DJI.Volume & DJI.Adjusted & Open.Close & High.Low & Diff.Volume & Returns & Y & B.S & ANN\\\\\n",
       "  & <dbl> & <dbl> & <dbl> & <dbl> & <dbl> & <dbl> & <dbl> & <dbl> & <dbl> & <dbl> & <dbl> & <chr> & <dbl>\\\\\n",
       "\\hline\n",
       "\t2016-01-05 & 17147.50 & 17195.84 & 17038.61 & 17158.66 & 105750000 & 17158.66 & 0.5074253 & 0.06534027 & 0.5344779 &  0.05668399 &  1 & Buy  & 1\\\\\n",
       "\t2016-01-06 & 17154.83 & 17154.83 & 16817.62 & 16906.51 & 120250000 & 16906.51 & 0.6170894 & 0.16162251 & 0.5897067 & -1.46952261 & -1 & Sell & 0\\\\\n",
       "\t2016-01-07 & 16888.36 & 16888.36 & 16463.63 & 16514.10 & 176240000 & 16514.10 & 0.6703151 & 0.20844087 & 0.6300419 & -2.32105954 & -1 & Sell & 0\\\\\n",
       "\t2016-01-08 & 16519.17 & 16651.89 & 16314.57 & 16346.45 & 141850000 & 16346.45 & 0.5851384 & 0.16168103 & 0.5421775 & -1.01518955 & -1 & Sell & 0\\\\\n",
       "\t2016-01-11 & 16358.71 & 16461.85 & 16232.03 & 16398.57 & 127790000 & 16398.57 & 0.4952958 & 0.10417237 & 0.5619416 &  0.31884671 &  1 & Buy  & 1\\\\\n",
       "\t2016-01-12 & 16419.11 & 16591.35 & 16322.07 & 16516.22 & 117480000 & 16516.22 & 0.4710998 & 0.12528185 & 0.5655872 &  0.71744297 &  1 & Buy  & 1\\\\\n",
       "\\end{tabular}\n"
      ],
      "text/markdown": [
       "\n",
       "A data.frame: 6 × 13\n",
       "\n",
       "| <!--/--> | DJI.Open &lt;dbl&gt; | DJI.High &lt;dbl&gt; | DJI.Low &lt;dbl&gt; | DJI.Close &lt;dbl&gt; | DJI.Volume &lt;dbl&gt; | DJI.Adjusted &lt;dbl&gt; | Open.Close &lt;dbl&gt; | High.Low &lt;dbl&gt; | Diff.Volume &lt;dbl&gt; | Returns &lt;dbl&gt; | Y &lt;dbl&gt; | B.S &lt;chr&gt; | ANN &lt;dbl&gt; |\n",
       "|---|---|---|---|---|---|---|---|---|---|---|---|---|---|\n",
       "| 2016-01-05 | 17147.50 | 17195.84 | 17038.61 | 17158.66 | 105750000 | 17158.66 | 0.5074253 | 0.06534027 | 0.5344779 |  0.05668399 |  1 | Buy  | 1 |\n",
       "| 2016-01-06 | 17154.83 | 17154.83 | 16817.62 | 16906.51 | 120250000 | 16906.51 | 0.6170894 | 0.16162251 | 0.5897067 | -1.46952261 | -1 | Sell | 0 |\n",
       "| 2016-01-07 | 16888.36 | 16888.36 | 16463.63 | 16514.10 | 176240000 | 16514.10 | 0.6703151 | 0.20844087 | 0.6300419 | -2.32105954 | -1 | Sell | 0 |\n",
       "| 2016-01-08 | 16519.17 | 16651.89 | 16314.57 | 16346.45 | 141850000 | 16346.45 | 0.5851384 | 0.16168103 | 0.5421775 | -1.01518955 | -1 | Sell | 0 |\n",
       "| 2016-01-11 | 16358.71 | 16461.85 | 16232.03 | 16398.57 | 127790000 | 16398.57 | 0.4952958 | 0.10417237 | 0.5619416 |  0.31884671 |  1 | Buy  | 1 |\n",
       "| 2016-01-12 | 16419.11 | 16591.35 | 16322.07 | 16516.22 | 117480000 | 16516.22 | 0.4710998 | 0.12528185 | 0.5655872 |  0.71744297 |  1 | Buy  | 1 |\n",
       "\n"
      ],
      "text/plain": [
       "           DJI.Open DJI.High DJI.Low  DJI.Close DJI.Volume DJI.Adjusted\n",
       "2016-01-05 17147.50 17195.84 17038.61 17158.66  105750000  17158.66    \n",
       "2016-01-06 17154.83 17154.83 16817.62 16906.51  120250000  16906.51    \n",
       "2016-01-07 16888.36 16888.36 16463.63 16514.10  176240000  16514.10    \n",
       "2016-01-08 16519.17 16651.89 16314.57 16346.45  141850000  16346.45    \n",
       "2016-01-11 16358.71 16461.85 16232.03 16398.57  127790000  16398.57    \n",
       "2016-01-12 16419.11 16591.35 16322.07 16516.22  117480000  16516.22    \n",
       "           Open.Close High.Low   Diff.Volume Returns     Y  B.S  ANN\n",
       "2016-01-05 0.5074253  0.06534027 0.5344779    0.05668399  1 Buy  1  \n",
       "2016-01-06 0.6170894  0.16162251 0.5897067   -1.46952261 -1 Sell 0  \n",
       "2016-01-07 0.6703151  0.20844087 0.6300419   -2.32105954 -1 Sell 0  \n",
       "2016-01-08 0.5851384  0.16168103 0.5421775   -1.01518955 -1 Sell 0  \n",
       "2016-01-11 0.4952958  0.10417237 0.5619416    0.31884671  1 Buy  1  \n",
       "2016-01-12 0.4710998  0.12528185 0.5655872    0.71744297  1 Buy  1  "
      ]
     },
     "metadata": {},
     "output_type": "display_data"
    },
    {
     "data": {
      "text/plain": [
       "                    Length Class      Mode    \n",
       "call                   7   -none-     call    \n",
       "response            1006   -none-     numeric \n",
       "covariate           3018   -none-     numeric \n",
       "model.list             2   -none-     list    \n",
       "err.fct                1   -none-     function\n",
       "act.fct                1   -none-     function\n",
       "linear.output          1   -none-     logical \n",
       "data                  13   data.frame list    \n",
       "exclude                0   -none-     NULL    \n",
       "net.result             1   -none-     list    \n",
       "weights                1   -none-     list    \n",
       "generalized.weights    1   -none-     list    \n",
       "startweights           1   -none-     list    \n",
       "result.matrix          9   -none-     numeric "
      ]
     },
     "metadata": {},
     "output_type": "display_data"
    }
   ],
   "source": [
    "#Min-Max Normalisation\n",
    "DJ$Diff.Volume<-(DJ$Diff.Volume- min(DJ$Diff.Volume))/(max(DJ$Diff.Volume)-min(DJ$Diff.Volume))\n",
    "DJ$Open.Close<-(DJ$Open.Close- min(DJ$Open.Close))/(max(DJ$Open.Close)-min(DJ$Open.Close))\n",
    "DJ$High.Low<-(DJ$High.Low- min(DJ$High.Low))/(max(DJ$High.Low)-min(DJ$High.Low))\n",
    "\n",
    "ANN<-ifelse(DJ$Returns<0,0,1)\n",
    "DJ<-cbind(DJ,ANN)\n",
    "head(DJ)\n",
    "\n",
    "#Data Split\n",
    "training<-DJ[2:1007,]\n",
    "testing<-DJ[1008:1257,]\n",
    "\n",
    "#Modelling theArtificial Neural Network\n",
    "library(neuralnet)\n",
    "set.seed(333)\n",
    "n<-neuralnet(ANN~Diff.Volume+Open.Close+High.Low,\n",
    "            data= training,\n",
    "            hidden =1,\n",
    "            err.fct = \"ce\",\n",
    "            linear.output = FALSE,\n",
    "            stepmax=1e7)\n",
    "plot(n)\n",
    "summary(n)"
   ]
  },
  {
   "cell_type": "code",
   "execution_count": 11,
   "metadata": {},
   "outputs": [
    {
     "data": {
      "text/plain": [
       "\n",
       "Call:\n",
       "best.tune(method = svm, train.x = B.S ~ Diff.Volume + Open.Close + \n",
       "    High.Low, data = train, ranges = list(epsilon = seq(0, 1, 0.1), \n",
       "    cost = 2^(2:9)), kernel = \"radial\")\n",
       "\n",
       "\n",
       "Parameters:\n",
       "   SVM-Type:  C-classification \n",
       " SVM-Kernel:  radial \n",
       "       cost:  256 \n",
       "\n",
       "Number of Support Vectors:  335\n",
       "\n",
       " ( 171 164 )\n",
       "\n",
       "\n",
       "Number of Classes:  2 \n",
       "\n",
       "Levels: \n",
       " Buy Sell\n",
       "\n",
       "\n"
      ]
     },
     "metadata": {},
     "output_type": "display_data"
    }
   ],
   "source": [
    "#Tuning The Support Vector Machine Model\n",
    "library(e1071)\n",
    "set.seed(1234)\n",
    "tmodel<-tune(svm,B.S ~ Diff.Volume + Open.Close + High.Low, data = train,\n",
    "            kernel = \"radial\",\n",
    "            ranges = list (epsilon = seq(0,1,0.1), cost = 2^(2:9)))\n",
    "\n",
    "#Best Model\n",
    "mymodel2<-tmodel$best.model\n",
    "summary(mymodel2)\n",
    "\n"
   ]
  },
  {
   "cell_type": "code",
   "execution_count": 12,
   "metadata": {},
   "outputs": [
    {
     "data": {
      "text/html": [
       "<table class=\"dataframe\">\n",
       "<caption>A matrix: 6 × 3 of type dbl</caption>\n",
       "<thead>\n",
       "\t<tr><th></th><th scope=col>Close</th><th scope=col>SMA_S</th><th scope=col>SMA_L</th></tr>\n",
       "</thead>\n",
       "<tbody>\n",
       "\t<tr><th scope=row>[1252,]</th><td>30015.51</td><td>30173.78</td><td>30032.55</td></tr>\n",
       "\t<tr><th scope=row>[1253,]</th><td>30129.83</td><td>30168.84</td><td>30036.73</td></tr>\n",
       "\t<tr><th scope=row>[1254,]</th><td>30199.87</td><td>30148.14</td><td>30053.10</td></tr>\n",
       "\t<tr><th scope=row>[1255,]</th><td>30403.97</td><td>30193.13</td><td>30077.78</td></tr>\n",
       "\t<tr><th scope=row>[1256,]</th><td>30335.67</td><td>30216.97</td><td>30112.64</td></tr>\n",
       "\t<tr><th scope=row>[1257,]</th><td>30409.56</td><td>30295.78</td><td>30141.92</td></tr>\n",
       "</tbody>\n",
       "</table>\n"
      ],
      "text/latex": [
       "A matrix: 6 × 3 of type dbl\n",
       "\\begin{tabular}{r|lll}\n",
       "  & Close & SMA\\_S & SMA\\_L\\\\\n",
       "\\hline\n",
       "\t{[}1252,{]} & 30015.51 & 30173.78 & 30032.55\\\\\n",
       "\t{[}1253,{]} & 30129.83 & 30168.84 & 30036.73\\\\\n",
       "\t{[}1254,{]} & 30199.87 & 30148.14 & 30053.10\\\\\n",
       "\t{[}1255,{]} & 30403.97 & 30193.13 & 30077.78\\\\\n",
       "\t{[}1256,{]} & 30335.67 & 30216.97 & 30112.64\\\\\n",
       "\t{[}1257,{]} & 30409.56 & 30295.78 & 30141.92\\\\\n",
       "\\end{tabular}\n"
      ],
      "text/markdown": [
       "\n",
       "A matrix: 6 × 3 of type dbl\n",
       "\n",
       "| <!--/--> | Close | SMA_S | SMA_L |\n",
       "|---|---|---|---|\n",
       "| [1252,] | 30015.51 | 30173.78 | 30032.55 |\n",
       "| [1253,] | 30129.83 | 30168.84 | 30036.73 |\n",
       "| [1254,] | 30199.87 | 30148.14 | 30053.10 |\n",
       "| [1255,] | 30403.97 | 30193.13 | 30077.78 |\n",
       "| [1256,] | 30335.67 | 30216.97 | 30112.64 |\n",
       "| [1257,] | 30409.56 | 30295.78 | 30141.92 |\n",
       "\n"
      ],
      "text/plain": [
       "        Close    SMA_S    SMA_L   \n",
       "[1252,] 30015.51 30173.78 30032.55\n",
       "[1253,] 30129.83 30168.84 30036.73\n",
       "[1254,] 30199.87 30148.14 30053.10\n",
       "[1255,] 30403.97 30193.13 30077.78\n",
       "[1256,] 30335.67 30216.97 30112.64\n",
       "[1257,] 30409.56 30295.78 30141.92"
      ]
     },
     "metadata": {},
     "output_type": "display_data"
    },
    {
     "data": {
      "image/png": "[encoded data removed]",
      "text/plain": [
       "Plot with title \"[2016-01-05/2020-12-30]\""
      ]
     },
     "metadata": {
      "image/png": {
       "height": 420,
       "width": 420
      }
     },
     "output_type": "display_data"
    },
    {
     "data": {
      "image/png": "[encoded data removed]",
      "text/plain": [
       "Plot with title \"[2016-01-05/2020-12-30]\""
      ]
     },
     "metadata": {
      "image/png": {
       "height": 420,
       "width": 420
      }
     },
     "output_type": "display_data"
    },
    {
     "data": {
      "text/html": [
       "<table class=\"dataframe\">\n",
       "<caption>A matrix: 6 × 4 of type dbl</caption>\n",
       "<thead>\n",
       "\t<tr><th></th><th scope=col>Close</th><th scope=col>SMA_S</th><th scope=col>SMA_L</th><th scope=col>diff</th></tr>\n",
       "</thead>\n",
       "<tbody>\n",
       "\t<tr><th scope=row>[1252,]</th><td>30015.51</td><td>30173.78</td><td>30032.55</td><td>141.2287</td></tr>\n",
       "\t<tr><th scope=row>[1253,]</th><td>30129.83</td><td>30168.84</td><td>30036.73</td><td>132.1074</td></tr>\n",
       "\t<tr><th scope=row>[1254,]</th><td>30199.87</td><td>30148.14</td><td>30053.10</td><td> 95.0375</td></tr>\n",
       "\t<tr><th scope=row>[1255,]</th><td>30403.97</td><td>30193.13</td><td>30077.78</td><td>115.3414</td></tr>\n",
       "\t<tr><th scope=row>[1256,]</th><td>30335.67</td><td>30216.97</td><td>30112.64</td><td>104.3341</td></tr>\n",
       "\t<tr><th scope=row>[1257,]</th><td>30409.56</td><td>30295.78</td><td>30141.92</td><td>153.8622</td></tr>\n",
       "</tbody>\n",
       "</table>\n"
      ],
      "text/latex": [
       "A matrix: 6 × 4 of type dbl\n",
       "\\begin{tabular}{r|llll}\n",
       "  & Close & SMA\\_S & SMA\\_L & diff\\\\\n",
       "\\hline\n",
       "\t{[}1252,{]} & 30015.51 & 30173.78 & 30032.55 & 141.2287\\\\\n",
       "\t{[}1253,{]} & 30129.83 & 30168.84 & 30036.73 & 132.1074\\\\\n",
       "\t{[}1254,{]} & 30199.87 & 30148.14 & 30053.10 &  95.0375\\\\\n",
       "\t{[}1255,{]} & 30403.97 & 30193.13 & 30077.78 & 115.3414\\\\\n",
       "\t{[}1256,{]} & 30335.67 & 30216.97 & 30112.64 & 104.3341\\\\\n",
       "\t{[}1257,{]} & 30409.56 & 30295.78 & 30141.92 & 153.8622\\\\\n",
       "\\end{tabular}\n"
      ],
      "text/markdown": [
       "\n",
       "A matrix: 6 × 4 of type dbl\n",
       "\n",
       "| <!--/--> | Close | SMA_S | SMA_L | diff |\n",
       "|---|---|---|---|---|\n",
       "| [1252,] | 30015.51 | 30173.78 | 30032.55 | 141.2287 |\n",
       "| [1253,] | 30129.83 | 30168.84 | 30036.73 | 132.1074 |\n",
       "| [1254,] | 30199.87 | 30148.14 | 30053.10 |  95.0375 |\n",
       "| [1255,] | 30403.97 | 30193.13 | 30077.78 | 115.3414 |\n",
       "| [1256,] | 30335.67 | 30216.97 | 30112.64 | 104.3341 |\n",
       "| [1257,] | 30409.56 | 30295.78 | 30141.92 | 153.8622 |\n",
       "\n"
      ],
      "text/plain": [
       "        Close    SMA_S    SMA_L    diff    \n",
       "[1252,] 30015.51 30173.78 30032.55 141.2287\n",
       "[1253,] 30129.83 30168.84 30036.73 132.1074\n",
       "[1254,] 30199.87 30148.14 30053.10  95.0375\n",
       "[1255,] 30403.97 30193.13 30077.78 115.3414\n",
       "[1256,] 30335.67 30216.97 30112.64 104.3341\n",
       "[1257,] 30409.56 30295.78 30141.92 153.8622"
      ]
     },
     "metadata": {},
     "output_type": "display_data"
    },
    {
     "data": {
      "text/html": [
       "<table class=\"dataframe\">\n",
       "<caption>A matrix: 6 × 5 of type dbl</caption>\n",
       "<thead>\n",
       "\t<tr><th></th><th scope=col>Close</th><th scope=col>SMA_S</th><th scope=col>SMA_L</th><th scope=col>diff</th><th scope=col>SIGNAL</th></tr>\n",
       "</thead>\n",
       "<tbody>\n",
       "\t<tr><th scope=row>[1252,]</th><td>30015.51</td><td>30173.78</td><td>30032.55</td><td>141.2287</td><td>1</td></tr>\n",
       "\t<tr><th scope=row>[1253,]</th><td>30129.83</td><td>30168.84</td><td>30036.73</td><td>132.1074</td><td>1</td></tr>\n",
       "\t<tr><th scope=row>[1254,]</th><td>30199.87</td><td>30148.14</td><td>30053.10</td><td> 95.0375</td><td>1</td></tr>\n",
       "\t<tr><th scope=row>[1255,]</th><td>30403.97</td><td>30193.13</td><td>30077.78</td><td>115.3414</td><td>1</td></tr>\n",
       "\t<tr><th scope=row>[1256,]</th><td>30335.67</td><td>30216.97</td><td>30112.64</td><td>104.3341</td><td>1</td></tr>\n",
       "\t<tr><th scope=row>[1257,]</th><td>30409.56</td><td>30295.78</td><td>30141.92</td><td>153.8622</td><td>1</td></tr>\n",
       "</tbody>\n",
       "</table>\n"
      ],
      "text/latex": [
       "A matrix: 6 × 5 of type dbl\n",
       "\\begin{tabular}{r|lllll}\n",
       "  & Close & SMA\\_S & SMA\\_L & diff & SIGNAL\\\\\n",
       "\\hline\n",
       "\t{[}1252,{]} & 30015.51 & 30173.78 & 30032.55 & 141.2287 & 1\\\\\n",
       "\t{[}1253,{]} & 30129.83 & 30168.84 & 30036.73 & 132.1074 & 1\\\\\n",
       "\t{[}1254,{]} & 30199.87 & 30148.14 & 30053.10 &  95.0375 & 1\\\\\n",
       "\t{[}1255,{]} & 30403.97 & 30193.13 & 30077.78 & 115.3414 & 1\\\\\n",
       "\t{[}1256,{]} & 30335.67 & 30216.97 & 30112.64 & 104.3341 & 1\\\\\n",
       "\t{[}1257,{]} & 30409.56 & 30295.78 & 30141.92 & 153.8622 & 1\\\\\n",
       "\\end{tabular}\n"
      ],
      "text/markdown": [
       "\n",
       "A matrix: 6 × 5 of type dbl\n",
       "\n",
       "| <!--/--> | Close | SMA_S | SMA_L | diff | SIGNAL |\n",
       "|---|---|---|---|---|---|\n",
       "| [1252,] | 30015.51 | 30173.78 | 30032.55 | 141.2287 | 1 |\n",
       "| [1253,] | 30129.83 | 30168.84 | 30036.73 | 132.1074 | 1 |\n",
       "| [1254,] | 30199.87 | 30148.14 | 30053.10 |  95.0375 | 1 |\n",
       "| [1255,] | 30403.97 | 30193.13 | 30077.78 | 115.3414 | 1 |\n",
       "| [1256,] | 30335.67 | 30216.97 | 30112.64 | 104.3341 | 1 |\n",
       "| [1257,] | 30409.56 | 30295.78 | 30141.92 | 153.8622 | 1 |\n",
       "\n"
      ],
      "text/plain": [
       "        Close    SMA_S    SMA_L    diff     SIGNAL\n",
       "[1252,] 30015.51 30173.78 30032.55 141.2287 1     \n",
       "[1253,] 30129.83 30168.84 30036.73 132.1074 1     \n",
       "[1254,] 30199.87 30148.14 30053.10  95.0375 1     \n",
       "[1255,] 30403.97 30193.13 30077.78 115.3414 1     \n",
       "[1256,] 30335.67 30216.97 30112.64 104.3341 1     \n",
       "[1257,] 30409.56 30295.78 30141.92 153.8622 1     "
      ]
     },
     "metadata": {},
     "output_type": "display_data"
    },
    {
     "data": {
      "image/png": "[encoded data removed]",
      "text/plain": [
       "Plot with title \"[2016-01-05/2020-12-30]\""
      ]
     },
     "metadata": {
      "image/png": {
       "height": 420,
       "width": 420
      }
     },
     "output_type": "display_data"
    }
   ],
   "source": [
    "# Calucation of Simple Moving Average using the Quantmod Library\n",
    "#Calculation of SMA\n",
    "library(quantmod)\n",
    "sma<-cbind(DJ$DJI.Close, SMA (DJ$DJI.Close, 5), SMA(DJ$DJI.Close, 20))\n",
    "colnames(sma)<-c('Close', 'SMA_S', 'SMA_L')\n",
    "tail(sma)\n",
    "\n",
    "#Plotting SMA\n",
    "lineChart(Cl(DJ), theme='white')\n",
    "addSMA(n=5, col = 'red')\n",
    "addSMA(n=20, col = 'blue')\n",
    "\n",
    "#Calculation of Difference\n",
    "diff<-numeric(1257)\n",
    "diff<-sma[,2]-sma[,3]\n",
    "sma<-cbind(sma,diff)\n",
    "names(sma)[4]<-\"diff\"\n",
    "tail(sma)\n",
    "\n",
    "#Generating the Signal\n",
    "SIGNAL<-ifelse(diff<0,0,1)\n",
    "sma<-cbind(sma,SIGNAL)\n",
    "tail(sma)\n",
    "\n"
   ]
  },
  {
   "cell_type": "code",
   "execution_count": 13,
   "metadata": {},
   "outputs": [
    {
     "data": {
      "text/plain": [
       "Daily periodicity from 2016-01-05 to 2020-12-31 "
      ]
     },
     "metadata": {},
     "output_type": "display_data"
    },
    {
     "data": {
      "text/plain": [
       "           DJI.Open DJI.High  DJI.Low DJI.Close DJI.Volume DJI.Adjusted\n",
       "2016-01-05 17147.50 17195.84 17038.61  17158.66  105750000     17158.66\n",
       "2016-01-06 17154.83 17154.83 16817.62  16906.51  120250000     16906.51\n",
       "2016-01-07 16888.36 16888.36 16463.63  16514.10  176240000     16514.10\n",
       "2016-01-08 16519.17 16651.89 16314.57  16346.45  141850000     16346.45\n",
       "2016-01-11 16358.71 16461.85 16232.03  16398.57  127790000     16398.57\n",
       "2016-01-12 16419.11 16591.35 16322.07  16516.22  117480000     16516.22"
      ]
     },
     "metadata": {},
     "output_type": "display_data"
    }
   ],
   "source": [
    "test <- getSymbols(\"^DJI\", from=\"2016-01-05\", to = \"2021-01-01\", auto.assign = FALSE)\n",
    "periodicity(test)\n",
    "head(test)"
   ]
  },
  {
   "cell_type": "code",
   "execution_count": 14,
   "metadata": {},
   "outputs": [
    {
     "data": {
      "text/html": [
       "<table class=\"dataframe\">\n",
       "<caption>A matrix: 6 × 2 of type dbl</caption>\n",
       "<thead>\n",
       "\t<tr><th></th><th scope=col>macd</th><th scope=col>signal</th></tr>\n",
       "</thead>\n",
       "<tbody>\n",
       "\t<tr><th scope=row>[1252,]</th><td>0.9568798</td><td>1.1581232</td></tr>\n",
       "\t<tr><th scope=row>[1253,]</th><td>0.9001270</td><td>1.1065240</td></tr>\n",
       "\t<tr><th scope=row>[1254,]</th><td>0.8639516</td><td>1.0580095</td></tr>\n",
       "\t<tr><th scope=row>[1255,]</th><td>0.8797707</td><td>1.0223617</td></tr>\n",
       "\t<tr><th scope=row>[1256,]</th><td>0.8638821</td><td>0.9906658</td></tr>\n",
       "\t<tr><th scope=row>[1257,]</th><td>0.8610127</td><td>0.9647352</td></tr>\n",
       "</tbody>\n",
       "</table>\n"
      ],
      "text/latex": [
       "A matrix: 6 × 2 of type dbl\n",
       "\\begin{tabular}{r|ll}\n",
       "  & macd & signal\\\\\n",
       "\\hline\n",
       "\t{[}1252,{]} & 0.9568798 & 1.1581232\\\\\n",
       "\t{[}1253,{]} & 0.9001270 & 1.1065240\\\\\n",
       "\t{[}1254,{]} & 0.8639516 & 1.0580095\\\\\n",
       "\t{[}1255,{]} & 0.8797707 & 1.0223617\\\\\n",
       "\t{[}1256,{]} & 0.8638821 & 0.9906658\\\\\n",
       "\t{[}1257,{]} & 0.8610127 & 0.9647352\\\\\n",
       "\\end{tabular}\n"
      ],
      "text/markdown": [
       "\n",
       "A matrix: 6 × 2 of type dbl\n",
       "\n",
       "| <!--/--> | macd | signal |\n",
       "|---|---|---|\n",
       "| [1252,] | 0.9568798 | 1.1581232 |\n",
       "| [1253,] | 0.9001270 | 1.1065240 |\n",
       "| [1254,] | 0.8639516 | 1.0580095 |\n",
       "| [1255,] | 0.8797707 | 1.0223617 |\n",
       "| [1256,] | 0.8638821 | 0.9906658 |\n",
       "| [1257,] | 0.8610127 | 0.9647352 |\n",
       "\n"
      ],
      "text/plain": [
       "        macd      signal   \n",
       "[1252,] 0.9568798 1.1581232\n",
       "[1253,] 0.9001270 1.1065240\n",
       "[1254,] 0.8639516 1.0580095\n",
       "[1255,] 0.8797707 1.0223617\n",
       "[1256,] 0.8638821 0.9906658\n",
       "[1257,] 0.8610127 0.9647352"
      ]
     },
     "metadata": {},
     "output_type": "display_data"
    },
    {
     "data": {
      "image/png": "[encoded data removed]",
      "text/plain": [
       "Plot with title \"[2016-01-05/2020-12-31]\""
      ]
     },
     "metadata": {
      "image/png": {
       "height": 420,
       "width": 420
      }
     },
     "output_type": "display_data"
    },
    {
     "data": {
      "text/html": [
       "<table class=\"dataframe\">\n",
       "<caption>A matrix: 62500 × 4 of type lgl</caption>\n",
       "<thead>\n",
       "\t<tr><th scope=col>macd</th><th scope=col>signal</th><th scope=col>Y</th><th scope=col>y</th></tr>\n",
       "</thead>\n",
       "<tbody>\n",
       "\t<tr><td>FALSE</td><td>FALSE</td><td>FALSE</td><td>FALSE</td></tr>\n",
       "\t<tr><td>FALSE</td><td>FALSE</td><td>FALSE</td><td>FALSE</td></tr>\n",
       "\t<tr><td>FALSE</td><td>FALSE</td><td>FALSE</td><td>FALSE</td></tr>\n",
       "\t<tr><td>FALSE</td><td>FALSE</td><td>FALSE</td><td>FALSE</td></tr>\n",
       "\t<tr><td>FALSE</td><td>FALSE</td><td>FALSE</td><td>FALSE</td></tr>\n",
       "\t<tr><td>FALSE</td><td>FALSE</td><td>FALSE</td><td>FALSE</td></tr>\n",
       "\t<tr><td>FALSE</td><td>FALSE</td><td>FALSE</td><td>FALSE</td></tr>\n",
       "\t<tr><td>FALSE</td><td>FALSE</td><td>FALSE</td><td>FALSE</td></tr>\n",
       "\t<tr><td>FALSE</td><td>FALSE</td><td>FALSE</td><td>FALSE</td></tr>\n",
       "\t<tr><td>FALSE</td><td>FALSE</td><td>FALSE</td><td>FALSE</td></tr>\n",
       "\t<tr><td>FALSE</td><td>FALSE</td><td>FALSE</td><td>FALSE</td></tr>\n",
       "\t<tr><td>FALSE</td><td>FALSE</td><td>FALSE</td><td>FALSE</td></tr>\n",
       "\t<tr><td>FALSE</td><td>FALSE</td><td>FALSE</td><td>FALSE</td></tr>\n",
       "\t<tr><td>FALSE</td><td>FALSE</td><td>FALSE</td><td>FALSE</td></tr>\n",
       "\t<tr><td>FALSE</td><td>FALSE</td><td>FALSE</td><td>FALSE</td></tr>\n",
       "\t<tr><td>FALSE</td><td>FALSE</td><td>FALSE</td><td>FALSE</td></tr>\n",
       "\t<tr><td>FALSE</td><td>FALSE</td><td>FALSE</td><td>FALSE</td></tr>\n",
       "\t<tr><td>FALSE</td><td>FALSE</td><td>FALSE</td><td>FALSE</td></tr>\n",
       "\t<tr><td>FALSE</td><td>FALSE</td><td>FALSE</td><td> TRUE</td></tr>\n",
       "\t<tr><td>FALSE</td><td>FALSE</td><td>FALSE</td><td> TRUE</td></tr>\n",
       "\t<tr><td>FALSE</td><td>FALSE</td><td>FALSE</td><td> TRUE</td></tr>\n",
       "\t<tr><td>FALSE</td><td>FALSE</td><td>FALSE</td><td>FALSE</td></tr>\n",
       "\t<tr><td>FALSE</td><td>FALSE</td><td>FALSE</td><td>FALSE</td></tr>\n",
       "\t<tr><td>FALSE</td><td>FALSE</td><td>FALSE</td><td>FALSE</td></tr>\n",
       "\t<tr><td>FALSE</td><td>FALSE</td><td>FALSE</td><td>FALSE</td></tr>\n",
       "\t<tr><td>FALSE</td><td>FALSE</td><td>FALSE</td><td>FALSE</td></tr>\n",
       "\t<tr><td>FALSE</td><td>FALSE</td><td>FALSE</td><td>FALSE</td></tr>\n",
       "\t<tr><td>FALSE</td><td>FALSE</td><td>FALSE</td><td>FALSE</td></tr>\n",
       "\t<tr><td>FALSE</td><td>FALSE</td><td>FALSE</td><td>FALSE</td></tr>\n",
       "\t<tr><td>FALSE</td><td>FALSE</td><td>FALSE</td><td>FALSE</td></tr>\n",
       "\t<tr><td>...</td><td>...</td><td>...</td><td>...</td></tr>\n",
       "\t<tr><td>FALSE</td><td>FALSE</td><td>FALSE</td><td>FALSE</td></tr>\n",
       "\t<tr><td>FALSE</td><td>FALSE</td><td>FALSE</td><td>FALSE</td></tr>\n",
       "\t<tr><td>FALSE</td><td>FALSE</td><td>FALSE</td><td>FALSE</td></tr>\n",
       "\t<tr><td>FALSE</td><td>FALSE</td><td>FALSE</td><td>FALSE</td></tr>\n",
       "\t<tr><td>FALSE</td><td>FALSE</td><td>FALSE</td><td>FALSE</td></tr>\n",
       "\t<tr><td>FALSE</td><td>FALSE</td><td>FALSE</td><td>FALSE</td></tr>\n",
       "\t<tr><td>FALSE</td><td>FALSE</td><td>FALSE</td><td>FALSE</td></tr>\n",
       "\t<tr><td>FALSE</td><td>FALSE</td><td>FALSE</td><td>FALSE</td></tr>\n",
       "\t<tr><td>FALSE</td><td>FALSE</td><td>FALSE</td><td>FALSE</td></tr>\n",
       "\t<tr><td>FALSE</td><td>FALSE</td><td>FALSE</td><td>FALSE</td></tr>\n",
       "\t<tr><td>FALSE</td><td>FALSE</td><td>FALSE</td><td>FALSE</td></tr>\n",
       "\t<tr><td>FALSE</td><td>FALSE</td><td>FALSE</td><td>FALSE</td></tr>\n",
       "\t<tr><td>FALSE</td><td>FALSE</td><td>FALSE</td><td>FALSE</td></tr>\n",
       "\t<tr><td>FALSE</td><td>FALSE</td><td>FALSE</td><td>FALSE</td></tr>\n",
       "\t<tr><td>FALSE</td><td>FALSE</td><td>FALSE</td><td>FALSE</td></tr>\n",
       "\t<tr><td>FALSE</td><td>FALSE</td><td>FALSE</td><td>FALSE</td></tr>\n",
       "\t<tr><td>FALSE</td><td>FALSE</td><td>FALSE</td><td>FALSE</td></tr>\n",
       "\t<tr><td>FALSE</td><td>FALSE</td><td>FALSE</td><td>FALSE</td></tr>\n",
       "\t<tr><td>FALSE</td><td>FALSE</td><td>FALSE</td><td>FALSE</td></tr>\n",
       "\t<tr><td>FALSE</td><td>FALSE</td><td>FALSE</td><td>FALSE</td></tr>\n",
       "\t<tr><td>FALSE</td><td>FALSE</td><td>FALSE</td><td>FALSE</td></tr>\n",
       "\t<tr><td>FALSE</td><td>FALSE</td><td>FALSE</td><td>FALSE</td></tr>\n",
       "\t<tr><td>FALSE</td><td>FALSE</td><td>FALSE</td><td>FALSE</td></tr>\n",
       "\t<tr><td>FALSE</td><td>FALSE</td><td>FALSE</td><td>FALSE</td></tr>\n",
       "\t<tr><td>FALSE</td><td>FALSE</td><td>FALSE</td><td>FALSE</td></tr>\n",
       "\t<tr><td>FALSE</td><td>FALSE</td><td>FALSE</td><td>FALSE</td></tr>\n",
       "\t<tr><td>FALSE</td><td>FALSE</td><td>FALSE</td><td>FALSE</td></tr>\n",
       "\t<tr><td>FALSE</td><td>FALSE</td><td>FALSE</td><td>FALSE</td></tr>\n",
       "\t<tr><td>FALSE</td><td>FALSE</td><td>FALSE</td><td>FALSE</td></tr>\n",
       "\t<tr><td>FALSE</td><td>FALSE</td><td>FALSE</td><td>FALSE</td></tr>\n",
       "</tbody>\n",
       "</table>\n"
      ],
      "text/latex": [
       "A matrix: 62500 × 4 of type lgl\n",
       "\\begin{tabular}{llll}\n",
       " macd & signal & Y & y\\\\\n",
       "\\hline\n",
       "\t FALSE & FALSE & FALSE & FALSE\\\\\n",
       "\t FALSE & FALSE & FALSE & FALSE\\\\\n",
       "\t FALSE & FALSE & FALSE & FALSE\\\\\n",
       "\t FALSE & FALSE & FALSE & FALSE\\\\\n",
       "\t FALSE & FALSE & FALSE & FALSE\\\\\n",
       "\t FALSE & FALSE & FALSE & FALSE\\\\\n",
       "\t FALSE & FALSE & FALSE & FALSE\\\\\n",
       "\t FALSE & FALSE & FALSE & FALSE\\\\\n",
       "\t FALSE & FALSE & FALSE & FALSE\\\\\n",
       "\t FALSE & FALSE & FALSE & FALSE\\\\\n",
       "\t FALSE & FALSE & FALSE & FALSE\\\\\n",
       "\t FALSE & FALSE & FALSE & FALSE\\\\\n",
       "\t FALSE & FALSE & FALSE & FALSE\\\\\n",
       "\t FALSE & FALSE & FALSE & FALSE\\\\\n",
       "\t FALSE & FALSE & FALSE & FALSE\\\\\n",
       "\t FALSE & FALSE & FALSE & FALSE\\\\\n",
       "\t FALSE & FALSE & FALSE & FALSE\\\\\n",
       "\t FALSE & FALSE & FALSE & FALSE\\\\\n",
       "\t FALSE & FALSE & FALSE &  TRUE\\\\\n",
       "\t FALSE & FALSE & FALSE &  TRUE\\\\\n",
       "\t FALSE & FALSE & FALSE &  TRUE\\\\\n",
       "\t FALSE & FALSE & FALSE & FALSE\\\\\n",
       "\t FALSE & FALSE & FALSE & FALSE\\\\\n",
       "\t FALSE & FALSE & FALSE & FALSE\\\\\n",
       "\t FALSE & FALSE & FALSE & FALSE\\\\\n",
       "\t FALSE & FALSE & FALSE & FALSE\\\\\n",
       "\t FALSE & FALSE & FALSE & FALSE\\\\\n",
       "\t FALSE & FALSE & FALSE & FALSE\\\\\n",
       "\t FALSE & FALSE & FALSE & FALSE\\\\\n",
       "\t FALSE & FALSE & FALSE & FALSE\\\\\n",
       "\t ... & ... & ... & ...\\\\\n",
       "\t FALSE & FALSE & FALSE & FALSE\\\\\n",
       "\t FALSE & FALSE & FALSE & FALSE\\\\\n",
       "\t FALSE & FALSE & FALSE & FALSE\\\\\n",
       "\t FALSE & FALSE & FALSE & FALSE\\\\\n",
       "\t FALSE & FALSE & FALSE & FALSE\\\\\n",
       "\t FALSE & FALSE & FALSE & FALSE\\\\\n",
       "\t FALSE & FALSE & FALSE & FALSE\\\\\n",
       "\t FALSE & FALSE & FALSE & FALSE\\\\\n",
       "\t FALSE & FALSE & FALSE & FALSE\\\\\n",
       "\t FALSE & FALSE & FALSE & FALSE\\\\\n",
       "\t FALSE & FALSE & FALSE & FALSE\\\\\n",
       "\t FALSE & FALSE & FALSE & FALSE\\\\\n",
       "\t FALSE & FALSE & FALSE & FALSE\\\\\n",
       "\t FALSE & FALSE & FALSE & FALSE\\\\\n",
       "\t FALSE & FALSE & FALSE & FALSE\\\\\n",
       "\t FALSE & FALSE & FALSE & FALSE\\\\\n",
       "\t FALSE & FALSE & FALSE & FALSE\\\\\n",
       "\t FALSE & FALSE & FALSE & FALSE\\\\\n",
       "\t FALSE & FALSE & FALSE & FALSE\\\\\n",
       "\t FALSE & FALSE & FALSE & FALSE\\\\\n",
       "\t FALSE & FALSE & FALSE & FALSE\\\\\n",
       "\t FALSE & FALSE & FALSE & FALSE\\\\\n",
       "\t FALSE & FALSE & FALSE & FALSE\\\\\n",
       "\t FALSE & FALSE & FALSE & FALSE\\\\\n",
       "\t FALSE & FALSE & FALSE & FALSE\\\\\n",
       "\t FALSE & FALSE & FALSE & FALSE\\\\\n",
       "\t FALSE & FALSE & FALSE & FALSE\\\\\n",
       "\t FALSE & FALSE & FALSE & FALSE\\\\\n",
       "\t FALSE & FALSE & FALSE & FALSE\\\\\n",
       "\t FALSE & FALSE & FALSE & FALSE\\\\\n",
       "\\end{tabular}\n"
      ],
      "text/markdown": [
       "\n",
       "A matrix: 62500 × 4 of type lgl\n",
       "\n",
       "| macd | signal | Y | y |\n",
       "|---|---|---|---|\n",
       "| FALSE | FALSE | FALSE | FALSE |\n",
       "| FALSE | FALSE | FALSE | FALSE |\n",
       "| FALSE | FALSE | FALSE | FALSE |\n",
       "| FALSE | FALSE | FALSE | FALSE |\n",
       "| FALSE | FALSE | FALSE | FALSE |\n",
       "| FALSE | FALSE | FALSE | FALSE |\n",
       "| FALSE | FALSE | FALSE | FALSE |\n",
       "| FALSE | FALSE | FALSE | FALSE |\n",
       "| FALSE | FALSE | FALSE | FALSE |\n",
       "| FALSE | FALSE | FALSE | FALSE |\n",
       "| FALSE | FALSE | FALSE | FALSE |\n",
       "| FALSE | FALSE | FALSE | FALSE |\n",
       "| FALSE | FALSE | FALSE | FALSE |\n",
       "| FALSE | FALSE | FALSE | FALSE |\n",
       "| FALSE | FALSE | FALSE | FALSE |\n",
       "| FALSE | FALSE | FALSE | FALSE |\n",
       "| FALSE | FALSE | FALSE | FALSE |\n",
       "| FALSE | FALSE | FALSE | FALSE |\n",
       "| FALSE | FALSE | FALSE |  TRUE |\n",
       "| FALSE | FALSE | FALSE |  TRUE |\n",
       "| FALSE | FALSE | FALSE |  TRUE |\n",
       "| FALSE | FALSE | FALSE | FALSE |\n",
       "| FALSE | FALSE | FALSE | FALSE |\n",
       "| FALSE | FALSE | FALSE | FALSE |\n",
       "| FALSE | FALSE | FALSE | FALSE |\n",
       "| FALSE | FALSE | FALSE | FALSE |\n",
       "| FALSE | FALSE | FALSE | FALSE |\n",
       "| FALSE | FALSE | FALSE | FALSE |\n",
       "| FALSE | FALSE | FALSE | FALSE |\n",
       "| FALSE | FALSE | FALSE | FALSE |\n",
       "| ... | ... | ... | ... |\n",
       "| FALSE | FALSE | FALSE | FALSE |\n",
       "| FALSE | FALSE | FALSE | FALSE |\n",
       "| FALSE | FALSE | FALSE | FALSE |\n",
       "| FALSE | FALSE | FALSE | FALSE |\n",
       "| FALSE | FALSE | FALSE | FALSE |\n",
       "| FALSE | FALSE | FALSE | FALSE |\n",
       "| FALSE | FALSE | FALSE | FALSE |\n",
       "| FALSE | FALSE | FALSE | FALSE |\n",
       "| FALSE | FALSE | FALSE | FALSE |\n",
       "| FALSE | FALSE | FALSE | FALSE |\n",
       "| FALSE | FALSE | FALSE | FALSE |\n",
       "| FALSE | FALSE | FALSE | FALSE |\n",
       "| FALSE | FALSE | FALSE | FALSE |\n",
       "| FALSE | FALSE | FALSE | FALSE |\n",
       "| FALSE | FALSE | FALSE | FALSE |\n",
       "| FALSE | FALSE | FALSE | FALSE |\n",
       "| FALSE | FALSE | FALSE | FALSE |\n",
       "| FALSE | FALSE | FALSE | FALSE |\n",
       "| FALSE | FALSE | FALSE | FALSE |\n",
       "| FALSE | FALSE | FALSE | FALSE |\n",
       "| FALSE | FALSE | FALSE | FALSE |\n",
       "| FALSE | FALSE | FALSE | FALSE |\n",
       "| FALSE | FALSE | FALSE | FALSE |\n",
       "| FALSE | FALSE | FALSE | FALSE |\n",
       "| FALSE | FALSE | FALSE | FALSE |\n",
       "| FALSE | FALSE | FALSE | FALSE |\n",
       "| FALSE | FALSE | FALSE | FALSE |\n",
       "| FALSE | FALSE | FALSE | FALSE |\n",
       "| FALSE | FALSE | FALSE | FALSE |\n",
       "| FALSE | FALSE | FALSE | FALSE |\n",
       "\n"
      ],
      "text/plain": [
       "      macd  signal Y     y    \n",
       " [1,] FALSE FALSE  FALSE FALSE\n",
       " [2,] FALSE FALSE  FALSE FALSE\n",
       " [3,] FALSE FALSE  FALSE FALSE\n",
       " [4,] FALSE FALSE  FALSE FALSE\n",
       " [5,] FALSE FALSE  FALSE FALSE\n",
       " [6,] FALSE FALSE  FALSE FALSE\n",
       " [7,] FALSE FALSE  FALSE FALSE\n",
       " [8,] FALSE FALSE  FALSE FALSE\n",
       " [9,] FALSE FALSE  FALSE FALSE\n",
       "[10,] FALSE FALSE  FALSE FALSE\n",
       "[11,] FALSE FALSE  FALSE FALSE\n",
       "[12,] FALSE FALSE  FALSE FALSE\n",
       "[13,] FALSE FALSE  FALSE FALSE\n",
       "[14,] FALSE FALSE  FALSE FALSE\n",
       "[15,] FALSE FALSE  FALSE FALSE\n",
       "[16,] FALSE FALSE  FALSE FALSE\n",
       "[17,] FALSE FALSE  FALSE FALSE\n",
       "[18,] FALSE FALSE  FALSE FALSE\n",
       "[19,] FALSE FALSE  FALSE  TRUE\n",
       "[20,] FALSE FALSE  FALSE  TRUE\n",
       "[21,] FALSE FALSE  FALSE  TRUE\n",
       "[22,] FALSE FALSE  FALSE FALSE\n",
       "[23,] FALSE FALSE  FALSE FALSE\n",
       "[24,] FALSE FALSE  FALSE FALSE\n",
       "[25,] FALSE FALSE  FALSE FALSE\n",
       "[26,] FALSE FALSE  FALSE FALSE\n",
       "[27,] FALSE FALSE  FALSE FALSE\n",
       "[28,] FALSE FALSE  FALSE FALSE\n",
       "[29,] FALSE FALSE  FALSE FALSE\n",
       "[30,] FALSE FALSE  FALSE FALSE\n",
       "[31,] ...   ...    ...   ...  \n",
       "[32,] FALSE FALSE  FALSE FALSE\n",
       "[33,] FALSE FALSE  FALSE FALSE\n",
       "[34,] FALSE FALSE  FALSE FALSE\n",
       "[35,] FALSE FALSE  FALSE FALSE\n",
       "[36,] FALSE FALSE  FALSE FALSE\n",
       "[37,] FALSE FALSE  FALSE FALSE\n",
       "[38,] FALSE FALSE  FALSE FALSE\n",
       "[39,] FALSE FALSE  FALSE FALSE\n",
       "[40,] FALSE FALSE  FALSE FALSE\n",
       "[41,] FALSE FALSE  FALSE FALSE\n",
       "[42,] FALSE FALSE  FALSE FALSE\n",
       "[43,] FALSE FALSE  FALSE FALSE\n",
       "[44,] FALSE FALSE  FALSE FALSE\n",
       "[45,] FALSE FALSE  FALSE FALSE\n",
       "[46,] FALSE FALSE  FALSE FALSE\n",
       "[47,] FALSE FALSE  FALSE FALSE\n",
       "[48,] FALSE FALSE  FALSE FALSE\n",
       "[49,] FALSE FALSE  FALSE FALSE\n",
       "[50,] FALSE FALSE  FALSE FALSE\n",
       "[51,] FALSE FALSE  FALSE FALSE\n",
       "[52,] FALSE FALSE  FALSE FALSE\n",
       "[53,] FALSE FALSE  FALSE FALSE\n",
       "[54,] FALSE FALSE  FALSE FALSE\n",
       "[55,] FALSE FALSE  FALSE FALSE\n",
       "[56,] FALSE FALSE  FALSE FALSE\n",
       "[57,] FALSE FALSE  FALSE FALSE\n",
       "[58,] FALSE FALSE  FALSE FALSE\n",
       "[59,] FALSE FALSE  FALSE FALSE\n",
       "[60,] FALSE FALSE  FALSE FALSE\n",
       "[61,] FALSE FALSE  FALSE FALSE"
      ]
     },
     "metadata": {},
     "output_type": "display_data"
    },
    {
     "data": {
      "text/html": [
       "<table class=\"dataframe\">\n",
       "<caption>A matrix: 6 × 3 of type dbl</caption>\n",
       "<thead>\n",
       "\t<tr><th></th><th scope=col>macd</th><th scope=col>signal</th><th scope=col>Y</th></tr>\n",
       "</thead>\n",
       "<tbody>\n",
       "\t<tr><th scope=row>[245,]</th><td>0.9568798</td><td>1.1581232</td><td>0</td></tr>\n",
       "\t<tr><th scope=row>[246,]</th><td>0.9001270</td><td>1.1065240</td><td>0</td></tr>\n",
       "\t<tr><th scope=row>[247,]</th><td>0.8639516</td><td>1.0580095</td><td>0</td></tr>\n",
       "\t<tr><th scope=row>[248,]</th><td>0.8797707</td><td>1.0223617</td><td>0</td></tr>\n",
       "\t<tr><th scope=row>[249,]</th><td>0.8638821</td><td>0.9906658</td><td>0</td></tr>\n",
       "\t<tr><th scope=row>[250,]</th><td>0.8610127</td><td>0.9647352</td><td>0</td></tr>\n",
       "</tbody>\n",
       "</table>\n"
      ],
      "text/latex": [
       "A matrix: 6 × 3 of type dbl\n",
       "\\begin{tabular}{r|lll}\n",
       "  & macd & signal & Y\\\\\n",
       "\\hline\n",
       "\t{[}245,{]} & 0.9568798 & 1.1581232 & 0\\\\\n",
       "\t{[}246,{]} & 0.9001270 & 1.1065240 & 0\\\\\n",
       "\t{[}247,{]} & 0.8639516 & 1.0580095 & 0\\\\\n",
       "\t{[}248,{]} & 0.8797707 & 1.0223617 & 0\\\\\n",
       "\t{[}249,{]} & 0.8638821 & 0.9906658 & 0\\\\\n",
       "\t{[}250,{]} & 0.8610127 & 0.9647352 & 0\\\\\n",
       "\\end{tabular}\n"
      ],
      "text/markdown": [
       "\n",
       "A matrix: 6 × 3 of type dbl\n",
       "\n",
       "| <!--/--> | macd | signal | Y |\n",
       "|---|---|---|---|\n",
       "| [245,] | 0.9568798 | 1.1581232 | 0 |\n",
       "| [246,] | 0.9001270 | 1.1065240 | 0 |\n",
       "| [247,] | 0.8639516 | 1.0580095 | 0 |\n",
       "| [248,] | 0.8797707 | 1.0223617 | 0 |\n",
       "| [249,] | 0.8638821 | 0.9906658 | 0 |\n",
       "| [250,] | 0.8610127 | 0.9647352 | 0 |\n",
       "\n"
      ],
      "text/plain": [
       "       macd      signal    Y\n",
       "[245,] 0.9568798 1.1581232 0\n",
       "[246,] 0.9001270 1.1065240 0\n",
       "[247,] 0.8639516 1.0580095 0\n",
       "[248,] 0.8797707 1.0223617 0\n",
       "[249,] 0.8638821 0.9906658 0\n",
       "[250,] 0.8610127 0.9647352 0"
      ]
     },
     "metadata": {},
     "output_type": "display_data"
    },
    {
     "data": {
      "image/png": "[encoded data removed]",
      "text/plain": [
       "Plot with title \"[2016-01-05/2020-12-31]\""
      ]
     },
     "metadata": {
      "image/png": {
       "height": 420,
       "width": 420
      }
     },
     "output_type": "display_data"
    }
   ],
   "source": [
    "#Calucation of Moving Average Convergence Divergence using the Quantmod and TTR Libraries\n",
    "library(quantmod)\n",
    "library(TTR)\n",
    "macd<-MACD(DJ$DJI.Close ,nFast=12, nSlow=26,nSig=9)\n",
    "tail(macd)\n",
    "\n",
    "#Plotting MACD\n",
    "barChart(test, theme=chartTheme(\"white\"))\n",
    "addMACD(fast=12, slow=26, signal=9)\n",
    "\n",
    "#Calculation of the Difference\n",
    "diff<-macd[,1]-macd[,2]\n",
    "Y<-ifelse(diff<0, 0,1)\n",
    "\n",
    "#Generating the Signal\n",
    "macd<-cbind(macd,Y)\n",
    "names(macd)[3]<-\"Y\"\n",
    "test1<-macd[1008:1257,]\n",
    "test1<merge(test1,testing$Returns, all=TRUE)\n",
    "tail(test1)"
   ]
  },
  {
   "cell_type": "code",
   "execution_count": 15,
   "metadata": {},
   "outputs": [
    {
     "data": {
      "text/html": [
       "<table class=\"dataframe\">\n",
       "<caption>A matrix: 6 × 2 of type dbl</caption>\n",
       "<thead>\n",
       "\t<tr><th></th><th scope=col>rsi</th><th scope=col>Y</th></tr>\n",
       "</thead>\n",
       "<tbody>\n",
       "\t<tr><th scope=row>[1252,]</th><td>55.38202</td><td>0</td></tr>\n",
       "\t<tr><th scope=row>[1253,]</th><td>57.48189</td><td>0</td></tr>\n",
       "\t<tr><th scope=row>[1254,]</th><td>58.76239</td><td>0</td></tr>\n",
       "\t<tr><th scope=row>[1255,]</th><td>62.32335</td><td>0</td></tr>\n",
       "\t<tr><th scope=row>[1256,]</th><td>60.44239</td><td>0</td></tr>\n",
       "\t<tr><th scope=row>[1257,]</th><td>61.78608</td><td>0</td></tr>\n",
       "</tbody>\n",
       "</table>\n"
      ],
      "text/latex": [
       "A matrix: 6 × 2 of type dbl\n",
       "\\begin{tabular}{r|ll}\n",
       "  & rsi & Y\\\\\n",
       "\\hline\n",
       "\t{[}1252,{]} & 55.38202 & 0\\\\\n",
       "\t{[}1253,{]} & 57.48189 & 0\\\\\n",
       "\t{[}1254,{]} & 58.76239 & 0\\\\\n",
       "\t{[}1255,{]} & 62.32335 & 0\\\\\n",
       "\t{[}1256,{]} & 60.44239 & 0\\\\\n",
       "\t{[}1257,{]} & 61.78608 & 0\\\\\n",
       "\\end{tabular}\n"
      ],
      "text/markdown": [
       "\n",
       "A matrix: 6 × 2 of type dbl\n",
       "\n",
       "| <!--/--> | rsi | Y |\n",
       "|---|---|---|\n",
       "| [1252,] | 55.38202 | 0 |\n",
       "| [1253,] | 57.48189 | 0 |\n",
       "| [1254,] | 58.76239 | 0 |\n",
       "| [1255,] | 62.32335 | 0 |\n",
       "| [1256,] | 60.44239 | 0 |\n",
       "| [1257,] | 61.78608 | 0 |\n",
       "\n"
      ],
      "text/plain": [
       "        rsi      Y\n",
       "[1252,] 55.38202 0\n",
       "[1253,] 57.48189 0\n",
       "[1254,] 58.76239 0\n",
       "[1255,] 62.32335 0\n",
       "[1256,] 60.44239 0\n",
       "[1257,] 61.78608 0"
      ]
     },
     "metadata": {},
     "output_type": "display_data"
    },
    {
     "data": {
      "text/html": [
       "<table class=\"dataframe\">\n",
       "<caption>A matrix: 6 × 3 of type dbl</caption>\n",
       "<thead>\n",
       "\t<tr><th></th><th scope=col>rsi</th><th scope=col>Y</th><th scope=col></th></tr>\n",
       "</thead>\n",
       "<tbody>\n",
       "\t<tr><th scope=row>[245,]</th><td>55.38202</td><td>0</td><td>-0.6650002</td></tr>\n",
       "\t<tr><th scope=row>[246,]</th><td>57.48189</td><td>0</td><td> 0.3808708</td></tr>\n",
       "\t<tr><th scope=row>[247,]</th><td>58.76239</td><td>0</td><td> 0.2324575</td></tr>\n",
       "\t<tr><th scope=row>[248,]</th><td>62.32335</td><td>0</td><td> 0.6758359</td></tr>\n",
       "\t<tr><th scope=row>[249,]</th><td>60.44239</td><td>0</td><td>-0.2246443</td></tr>\n",
       "\t<tr><th scope=row>[250,]</th><td>61.78608</td><td>0</td><td> 0.2435767</td></tr>\n",
       "</tbody>\n",
       "</table>\n"
      ],
      "text/latex": [
       "A matrix: 6 × 3 of type dbl\n",
       "\\begin{tabular}{r|lll}\n",
       "  & rsi & Y & \\\\\n",
       "\\hline\n",
       "\t{[}245,{]} & 55.38202 & 0 & -0.6650002\\\\\n",
       "\t{[}246,{]} & 57.48189 & 0 &  0.3808708\\\\\n",
       "\t{[}247,{]} & 58.76239 & 0 &  0.2324575\\\\\n",
       "\t{[}248,{]} & 62.32335 & 0 &  0.6758359\\\\\n",
       "\t{[}249,{]} & 60.44239 & 0 & -0.2246443\\\\\n",
       "\t{[}250,{]} & 61.78608 & 0 &  0.2435767\\\\\n",
       "\\end{tabular}\n"
      ],
      "text/markdown": [
       "\n",
       "A matrix: 6 × 3 of type dbl\n",
       "\n",
       "| <!--/--> | rsi | Y | <!----> |\n",
       "|---|---|---|---|\n",
       "| [245,] | 55.38202 | 0 | -0.6650002 |\n",
       "| [246,] | 57.48189 | 0 |  0.3808708 |\n",
       "| [247,] | 58.76239 | 0 |  0.2324575 |\n",
       "| [248,] | 62.32335 | 0 |  0.6758359 |\n",
       "| [249,] | 60.44239 | 0 | -0.2246443 |\n",
       "| [250,] | 61.78608 | 0 |  0.2435767 |\n",
       "\n"
      ],
      "text/plain": [
       "       rsi      Y           \n",
       "[245,] 55.38202 0 -0.6650002\n",
       "[246,] 57.48189 0  0.3808708\n",
       "[247,] 58.76239 0  0.2324575\n",
       "[248,] 62.32335 0  0.6758359\n",
       "[249,] 60.44239 0 -0.2246443\n",
       "[250,] 61.78608 0  0.2435767"
      ]
     },
     "metadata": {},
     "output_type": "display_data"
    }
   ],
   "source": [
    "#Implementation of RSI Indicator\n",
    "library(TTR)\n",
    "rsi<-RSI(DJ$DJI.Close, n=14)\n",
    "Y<-ifelse(rsi<30,1,0)\n",
    "\n",
    "rsi<-cbind(rsi,Y)\n",
    "names(rsi)[2]<-\"Y\"\n",
    "tail(rsi)\n",
    "\n",
    "test2<-rsi[1008:1257,]\n",
    "test2<-cbind(test2,testing$Returns)\n",
    "tail(test2)"
   ]
  },
  {
   "cell_type": "code",
   "execution_count": 16,
   "metadata": {},
   "outputs": [
    {
     "data": {
      "text/html": [
       "<table class=\"dataframe\">\n",
       "<caption>A data.frame: 6 × 13</caption>\n",
       "<thead>\n",
       "\t<tr><th></th><th scope=col>DJI.Open</th><th scope=col>DJI.High</th><th scope=col>DJI.Low</th><th scope=col>DJI.Close</th><th scope=col>DJI.Volume</th><th scope=col>DJI.Adjusted</th><th scope=col>Open.Close</th><th scope=col>High.Low</th><th scope=col>Diff.Volume</th><th scope=col>Returns</th><th scope=col>Y</th><th scope=col>B.S</th><th scope=col>ANN</th></tr>\n",
       "\t<tr><th></th><th scope=col>&lt;dbl&gt;</th><th scope=col>&lt;dbl&gt;</th><th scope=col>&lt;dbl&gt;</th><th scope=col>&lt;dbl&gt;</th><th scope=col>&lt;dbl&gt;</th><th scope=col>&lt;dbl&gt;</th><th scope=col>&lt;dbl&gt;</th><th scope=col>&lt;dbl&gt;</th><th scope=col>&lt;dbl&gt;</th><th scope=col>&lt;dbl&gt;</th><th scope=col>&lt;dbl&gt;</th><th scope=col>&lt;chr&gt;</th><th scope=col>&lt;dbl&gt;</th></tr>\n",
       "</thead>\n",
       "<tbody>\n",
       "\t<tr><th scope=row>2020-12-22</th><td>30200.20</td><td>30200.20</td><td>29992.89</td><td>30015.51</td><td>388810000</td><td>30015.51</td><td>0.5901971</td><td>0.09213004</td><td>0.5282949</td><td>-0.6650002</td><td>-1</td><td>Sell</td><td>0</td></tr>\n",
       "\t<tr><th scope=row>2020-12-23</th><td>30046.73</td><td>30292.53</td><td>30046.73</td><td>30129.83</td><td>274050000</td><td>30129.83</td><td>0.4770216</td><td>0.11272075</td><td>0.4640444</td><td> 0.3808708</td><td> 1</td><td>Buy </td><td>1</td></tr>\n",
       "\t<tr><th scope=row>2020-12-24</th><td>30155.92</td><td>30209.67</td><td>30099.30</td><td>30199.87</td><td>145570000</td><td>30199.87</td><td>0.4935677</td><td>0.04027137</td><td>0.4507063</td><td> 0.2324575</td><td> 1</td><td>Buy </td><td>1</td></tr>\n",
       "\t<tr><th scope=row>2020-12-28</th><td>30283.23</td><td>30525.56</td><td>30283.23</td><td>30403.97</td><td>302490000</td><td>30403.97</td><td>0.4611135</td><td>0.11086511</td><td>0.7281627</td><td> 0.6758359</td><td> 1</td><td>Buy </td><td>1</td></tr>\n",
       "\t<tr><th scope=row>2020-12-29</th><td>30492.07</td><td>30588.79</td><td>30274.24</td><td>30335.67</td><td>357610000</td><td>30335.67</td><td>0.5782413</td><td>0.14949921</td><td>0.6291961</td><td>-0.2246443</td><td>-1</td><td>Sell</td><td>0</td></tr>\n",
       "\t<tr><th scope=row>2020-12-30</th><td>30415.09</td><td>30525.35</td><td>30393.04</td><td>30409.56</td><td>291890000</td><td>30409.56</td><td>0.5144788</td><td>0.05200913</td><td>0.5117195</td><td> 0.2435767</td><td> 1</td><td>Buy </td><td>1</td></tr>\n",
       "</tbody>\n",
       "</table>\n"
      ],
      "text/latex": [
       "A data.frame: 6 × 13\n",
       "\\begin{tabular}{r|lllllllllllll}\n",
       "  & DJI.Open & DJI.High & DJI.Low & DJI.Close & DJI.Volume & DJI.Adjusted & Open.Close & High.Low & Diff.Volume & Returns & Y & B.S & ANN\\\\\n",
       "  & <dbl> & <dbl> & <dbl> & <dbl> & <dbl> & <dbl> & <dbl> & <dbl> & <dbl> & <dbl> & <dbl> & <chr> & <dbl>\\\\\n",
       "\\hline\n",
       "\t2020-12-22 & 30200.20 & 30200.20 & 29992.89 & 30015.51 & 388810000 & 30015.51 & 0.5901971 & 0.09213004 & 0.5282949 & -0.6650002 & -1 & Sell & 0\\\\\n",
       "\t2020-12-23 & 30046.73 & 30292.53 & 30046.73 & 30129.83 & 274050000 & 30129.83 & 0.4770216 & 0.11272075 & 0.4640444 &  0.3808708 &  1 & Buy  & 1\\\\\n",
       "\t2020-12-24 & 30155.92 & 30209.67 & 30099.30 & 30199.87 & 145570000 & 30199.87 & 0.4935677 & 0.04027137 & 0.4507063 &  0.2324575 &  1 & Buy  & 1\\\\\n",
       "\t2020-12-28 & 30283.23 & 30525.56 & 30283.23 & 30403.97 & 302490000 & 30403.97 & 0.4611135 & 0.11086511 & 0.7281627 &  0.6758359 &  1 & Buy  & 1\\\\\n",
       "\t2020-12-29 & 30492.07 & 30588.79 & 30274.24 & 30335.67 & 357610000 & 30335.67 & 0.5782413 & 0.14949921 & 0.6291961 & -0.2246443 & -1 & Sell & 0\\\\\n",
       "\t2020-12-30 & 30415.09 & 30525.35 & 30393.04 & 30409.56 & 291890000 & 30409.56 & 0.5144788 & 0.05200913 & 0.5117195 &  0.2435767 &  1 & Buy  & 1\\\\\n",
       "\\end{tabular}\n"
      ],
      "text/markdown": [
       "\n",
       "A data.frame: 6 × 13\n",
       "\n",
       "| <!--/--> | DJI.Open &lt;dbl&gt; | DJI.High &lt;dbl&gt; | DJI.Low &lt;dbl&gt; | DJI.Close &lt;dbl&gt; | DJI.Volume &lt;dbl&gt; | DJI.Adjusted &lt;dbl&gt; | Open.Close &lt;dbl&gt; | High.Low &lt;dbl&gt; | Diff.Volume &lt;dbl&gt; | Returns &lt;dbl&gt; | Y &lt;dbl&gt; | B.S &lt;chr&gt; | ANN &lt;dbl&gt; |\n",
       "|---|---|---|---|---|---|---|---|---|---|---|---|---|---|\n",
       "| 2020-12-22 | 30200.20 | 30200.20 | 29992.89 | 30015.51 | 388810000 | 30015.51 | 0.5901971 | 0.09213004 | 0.5282949 | -0.6650002 | -1 | Sell | 0 |\n",
       "| 2020-12-23 | 30046.73 | 30292.53 | 30046.73 | 30129.83 | 274050000 | 30129.83 | 0.4770216 | 0.11272075 | 0.4640444 |  0.3808708 |  1 | Buy  | 1 |\n",
       "| 2020-12-24 | 30155.92 | 30209.67 | 30099.30 | 30199.87 | 145570000 | 30199.87 | 0.4935677 | 0.04027137 | 0.4507063 |  0.2324575 |  1 | Buy  | 1 |\n",
       "| 2020-12-28 | 30283.23 | 30525.56 | 30283.23 | 30403.97 | 302490000 | 30403.97 | 0.4611135 | 0.11086511 | 0.7281627 |  0.6758359 |  1 | Buy  | 1 |\n",
       "| 2020-12-29 | 30492.07 | 30588.79 | 30274.24 | 30335.67 | 357610000 | 30335.67 | 0.5782413 | 0.14949921 | 0.6291961 | -0.2246443 | -1 | Sell | 0 |\n",
       "| 2020-12-30 | 30415.09 | 30525.35 | 30393.04 | 30409.56 | 291890000 | 30409.56 | 0.5144788 | 0.05200913 | 0.5117195 |  0.2435767 |  1 | Buy  | 1 |\n",
       "\n"
      ],
      "text/plain": [
       "           DJI.Open DJI.High DJI.Low  DJI.Close DJI.Volume DJI.Adjusted\n",
       "2020-12-22 30200.20 30200.20 29992.89 30015.51  388810000  30015.51    \n",
       "2020-12-23 30046.73 30292.53 30046.73 30129.83  274050000  30129.83    \n",
       "2020-12-24 30155.92 30209.67 30099.30 30199.87  145570000  30199.87    \n",
       "2020-12-28 30283.23 30525.56 30283.23 30403.97  302490000  30403.97    \n",
       "2020-12-29 30492.07 30588.79 30274.24 30335.67  357610000  30335.67    \n",
       "2020-12-30 30415.09 30525.35 30393.04 30409.56  291890000  30409.56    \n",
       "           Open.Close High.Low   Diff.Volume Returns    Y  B.S  ANN\n",
       "2020-12-22 0.5901971  0.09213004 0.5282949   -0.6650002 -1 Sell 0  \n",
       "2020-12-23 0.4770216  0.11272075 0.4640444    0.3808708  1 Buy  1  \n",
       "2020-12-24 0.4935677  0.04027137 0.4507063    0.2324575  1 Buy  1  \n",
       "2020-12-28 0.4611135  0.11086511 0.7281627    0.6758359  1 Buy  1  \n",
       "2020-12-29 0.5782413  0.14949921 0.6291961   -0.2246443 -1 Sell 0  \n",
       "2020-12-30 0.5144788  0.05200913 0.5117195    0.2435767  1 Buy  1  "
      ]
     },
     "metadata": {},
     "output_type": "display_data"
    },
    {
     "data": {
      "text/html": [
       "<style>\n",
       ".list-inline {list-style: none; margin:0; padding: 0}\n",
       ".list-inline>li {display: inline-block}\n",
       ".list-inline>li:not(:last-child)::after {content: \"\\00b7\"; padding: 0 .5ex}\n",
       "</style>\n",
       "<ol class=list-inline><li>0.0142348707205411</li><li>0.00277817734959029</li><li>0.0109002472854645</li><li>0.0163680008221387</li><li>0.0232453087557527</li><li>0.0194462971668656</li></ol>\n"
      ],
      "text/latex": [
       "\\begin{enumerate*}\n",
       "\\item 0.0142348707205411\n",
       "\\item 0.00277817734959029\n",
       "\\item 0.0109002472854645\n",
       "\\item 0.0163680008221387\n",
       "\\item 0.0232453087557527\n",
       "\\item 0.0194462971668656\n",
       "\\end{enumerate*}\n"
      ],
      "text/markdown": [
       "1. 0.0142348707205411\n",
       "2. 0.00277817734959029\n",
       "3. 0.0109002472854645\n",
       "4. 0.0163680008221387\n",
       "5. 0.0232453087557527\n",
       "6. 0.0194462971668656\n",
       "\n",
       "\n"
      ],
      "text/plain": [
       "[1] 0.014234871 0.002778177 0.010900247 0.016368001 0.023245309 0.019446297"
      ]
     },
     "metadata": {},
     "output_type": "display_data"
    },
    {
     "data": {
      "text/html": [
       "<table class=\"dataframe\">\n",
       "<caption>A matrix: 6 × 2 of type dbl</caption>\n",
       "<thead>\n",
       "\t<tr><th></th><th scope=col>roc</th><th scope=col>y</th></tr>\n",
       "</thead>\n",
       "<tbody>\n",
       "\t<tr><th scope=row>[1252,]</th><td>0.014234871</td><td>1</td></tr>\n",
       "\t<tr><th scope=row>[1253,]</th><td>0.002778177</td><td>1</td></tr>\n",
       "\t<tr><th scope=row>[1254,]</th><td>0.010900247</td><td>1</td></tr>\n",
       "\t<tr><th scope=row>[1255,]</th><td>0.016368001</td><td>1</td></tr>\n",
       "\t<tr><th scope=row>[1256,]</th><td>0.023245309</td><td>1</td></tr>\n",
       "\t<tr><th scope=row>[1257,]</th><td>0.019446297</td><td>1</td></tr>\n",
       "</tbody>\n",
       "</table>\n"
      ],
      "text/latex": [
       "A matrix: 6 × 2 of type dbl\n",
       "\\begin{tabular}{r|ll}\n",
       "  & roc & y\\\\\n",
       "\\hline\n",
       "\t{[}1252,{]} & 0.014234871 & 1\\\\\n",
       "\t{[}1253,{]} & 0.002778177 & 1\\\\\n",
       "\t{[}1254,{]} & 0.010900247 & 1\\\\\n",
       "\t{[}1255,{]} & 0.016368001 & 1\\\\\n",
       "\t{[}1256,{]} & 0.023245309 & 1\\\\\n",
       "\t{[}1257,{]} & 0.019446297 & 1\\\\\n",
       "\\end{tabular}\n"
      ],
      "text/markdown": [
       "\n",
       "A matrix: 6 × 2 of type dbl\n",
       "\n",
       "| <!--/--> | roc | y |\n",
       "|---|---|---|\n",
       "| [1252,] | 0.014234871 | 1 |\n",
       "| [1253,] | 0.002778177 | 1 |\n",
       "| [1254,] | 0.010900247 | 1 |\n",
       "| [1255,] | 0.016368001 | 1 |\n",
       "| [1256,] | 0.023245309 | 1 |\n",
       "| [1257,] | 0.019446297 | 1 |\n",
       "\n"
      ],
      "text/plain": [
       "        roc         y\n",
       "[1252,] 0.014234871 1\n",
       "[1253,] 0.002778177 1\n",
       "[1254,] 0.010900247 1\n",
       "[1255,] 0.016368001 1\n",
       "[1256,] 0.023245309 1\n",
       "[1257,] 0.019446297 1"
      ]
     },
     "metadata": {},
     "output_type": "display_data"
    },
    {
     "data": {
      "text/html": [
       "<table class=\"dataframe\">\n",
       "<caption>A data.frame: 6 × 2</caption>\n",
       "<thead>\n",
       "\t<tr><th></th><th scope=col>y</th><th scope=col>roc</th></tr>\n",
       "\t<tr><th></th><th scope=col>&lt;dbl&gt;</th><th scope=col>&lt;dbl&gt;</th></tr>\n",
       "</thead>\n",
       "<tbody>\n",
       "\t<tr><th scope=row>495</th><td> 5.092458</td><td>NA</td></tr>\n",
       "\t<tr><th scope=row>496</th><td> 5.195336</td><td>NA</td></tr>\n",
       "\t<tr><th scope=row>497</th><td> 6.375396</td><td>NA</td></tr>\n",
       "\t<tr><th scope=row>498</th><td> 7.730477</td><td>NA</td></tr>\n",
       "\t<tr><th scope=row>499</th><td> 9.362934</td><td>NA</td></tr>\n",
       "\t<tr><th scope=row>500</th><td>11.365041</td><td>NA</td></tr>\n",
       "</tbody>\n",
       "</table>\n"
      ],
      "text/latex": [
       "A data.frame: 6 × 2\n",
       "\\begin{tabular}{r|ll}\n",
       "  & y & roc\\\\\n",
       "  & <dbl> & <dbl>\\\\\n",
       "\\hline\n",
       "\t495 &  5.092458 & NA\\\\\n",
       "\t496 &  5.195336 & NA\\\\\n",
       "\t497 &  6.375396 & NA\\\\\n",
       "\t498 &  7.730477 & NA\\\\\n",
       "\t499 &  9.362934 & NA\\\\\n",
       "\t500 & 11.365041 & NA\\\\\n",
       "\\end{tabular}\n"
      ],
      "text/markdown": [
       "\n",
       "A data.frame: 6 × 2\n",
       "\n",
       "| <!--/--> | y &lt;dbl&gt; | roc &lt;dbl&gt; |\n",
       "|---|---|---|\n",
       "| 495 |  5.092458 | NA |\n",
       "| 496 |  5.195336 | NA |\n",
       "| 497 |  6.375396 | NA |\n",
       "| 498 |  7.730477 | NA |\n",
       "| 499 |  9.362934 | NA |\n",
       "| 500 | 11.365041 | NA |\n",
       "\n"
      ],
      "text/plain": [
       "    y         roc\n",
       "495  5.092458 NA \n",
       "496  5.195336 NA \n",
       "497  6.375396 NA \n",
       "498  7.730477 NA \n",
       "499  9.362934 NA \n",
       "500 11.365041 NA "
      ]
     },
     "metadata": {},
     "output_type": "display_data"
    }
   ],
   "source": [
    "#Implementation of ROC Indicator\n",
    "library(TTR)\n",
    "data1<-DJ\n",
    "tail(data1)\n",
    "\n",
    "roc<-ROC(data1$DJI.Close, n=20)\n",
    "tail(roc)\n",
    "\n",
    "y<-ifelse(roc<0, 0, 1)\n",
    "roc<-cbind(roc,y)\n",
    "names(roc)[2]<-\"y\"\n",
    "tail(roc)\n",
    "\n",
    "test3<-roc[1008:1257,]\n",
    "testing3<-DJ[1008:1257,]\n",
    "\n",
    "test3<-merge(test3, testing3$Returns, all=TRUE)\n",
    "tail(test3)\n",
    "\n",
    "\n",
    "\n"
   ]
  },
  {
   "cell_type": "code",
   "execution_count": 17,
   "metadata": {},
   "outputs": [
    {
     "name": "stderr",
     "output_type": "stream",
     "text": [
      "Loading required package: lattice\n",
      "\n",
      "Loading required package: ggplot2\n",
      "\n",
      "\n",
      "Attaching package: 'ggplot2'\n",
      "\n",
      "\n",
      "The following object is masked from 'package:randomForest':\n",
      "\n",
      "    margin\n",
      "\n",
      "\n"
     ]
    },
    {
     "name": "stdout",
     "output_type": "stream",
     "text": [
      "        \n",
      "testPred Buy Sell\n",
      "    Buy  518   79\n",
      "    Sell  43  366\n"
     ]
    },
    {
     "data": {
      "text/html": [
       "0.878727634194831"
      ],
      "text/latex": [
       "0.878727634194831"
      ],
      "text/markdown": [
       "0.878727634194831"
      ],
      "text/plain": [
       "[1] 0.8787276"
      ]
     },
     "metadata": {},
     "output_type": "display_data"
    },
    {
     "name": "stdout",
     "output_type": "stream",
     "text": [
      "        \n",
      "testPred Buy Sell\n",
      "    Buy  127   11\n",
      "    Sell  12  102\n"
     ]
    },
    {
     "data": {
      "text/html": [
       "0.908730158730159"
      ],
      "text/latex": [
       "0.908730158730159"
      ],
      "text/markdown": [
       "0.908730158730159"
      ],
      "text/plain": [
       "[1] 0.9087302"
      ]
     },
     "metadata": {},
     "output_type": "display_data"
    }
   ],
   "source": [
    "#ML model predictions and evaluations using the Caret Library\n",
    "#Predictions, confusion matrix and precision for CART (Training and Testing)\n",
    "library(caret)\n",
    "testPred<-predict(tree,newdata=train)\n",
    "tab<-table(testPred,train$B.S)\n",
    "print(tab)\n",
    "sum(diag(tab))/sum(tab)\n",
    "\n",
    "testPred<-predict(tree,newdata=validate)\n",
    "tab<-table(testPred,validate$B.S)\n",
    "print(tab)\n",
    "sum(diag(tab))/sum(tab)\n"
   ]
  },
  {
   "cell_type": "code",
   "execution_count": 18,
   "metadata": {},
   "outputs": [
    {
     "name": "stdout",
     "output_type": "stream",
     "text": [
      "      \n",
      "p2     Buy Sell\n",
      "  Buy  518   79\n",
      "  Sell  43  366\n"
     ]
    },
    {
     "data": {
      "text/html": [
       "0.878727634194831"
      ],
      "text/latex": [
       "0.878727634194831"
      ],
      "text/markdown": [
       "0.878727634194831"
      ],
      "text/plain": [
       "[1] 0.8787276"
      ]
     },
     "metadata": {},
     "output_type": "display_data"
    },
    {
     "name": "stdout",
     "output_type": "stream",
     "text": [
      "      \n",
      "p2     Buy Sell\n",
      "  Buy  127   11\n",
      "  Sell  12  102\n"
     ]
    },
    {
     "data": {
      "text/html": [
       "0.908730158730159"
      ],
      "text/latex": [
       "0.908730158730159"
      ],
      "text/markdown": [
       "0.908730158730159"
      ],
      "text/plain": [
       "[1] 0.9087302"
      ]
     },
     "metadata": {},
     "output_type": "display_data"
    }
   ],
   "source": [
    "#Predictions, confusion matrix and precision for C5.0 (Training and Testing)\n",
    "p2<-predict(m2,newdata=train)\n",
    "confusion<-table(p2,train$B.S)\n",
    "print(confusion)\n",
    "sum(diag(confusion))/sum(confusion)\n",
    "\n",
    "p2<-predict(m2,newdata=validate)\n",
    "confusion<-table(p2,validate$B.S)\n",
    "print(confusion)\n",
    "sum(diag(confusion))/sum(confusion)\n"
   ]
  },
  {
   "cell_type": "code",
   "execution_count": 19,
   "metadata": {},
   "outputs": [
    {
     "name": "stdout",
     "output_type": "stream",
     "text": [
      "          \n",
      "Prediction Buy Sell\n",
      "      Buy  561    0\n",
      "      Sell   0  445\n"
     ]
    },
    {
     "data": {
      "text/html": [
       "1"
      ],
      "text/latex": [
       "1"
      ],
      "text/markdown": [
       "1"
      ],
      "text/plain": [
       "[1] 1"
      ]
     },
     "metadata": {},
     "output_type": "display_data"
    },
    {
     "name": "stdout",
     "output_type": "stream",
     "text": [
      "          \n",
      "Prediction Buy Sell\n",
      "      Buy  122   10\n",
      "      Sell  17  103\n"
     ]
    },
    {
     "data": {
      "text/html": [
       "0.892857142857143"
      ],
      "text/latex": [
       "0.892857142857143"
      ],
      "text/markdown": [
       "0.892857142857143"
      ],
      "text/plain": [
       "[1] 0.8928571"
      ]
     },
     "metadata": {},
     "output_type": "display_data"
    }
   ],
   "source": [
    "#Predictions, confusion matrix and precision for RF (Training and Testing)\n",
    "Prediction<-predict(rf,newdata=train)\n",
    "tab3<-table(Prediction,train$B.S)\n",
    "print(tab3)\n",
    "sum(diag(tab3))/sum(tab3)\n",
    "\n",
    "Prediction<-predict(rf,newdata=validate)\n",
    "tab3<-table(Prediction,validate$B.S)\n",
    "print(tab3)\n",
    "sum(diag(tab3))/sum(tab3)"
   ]
  },
  {
   "cell_type": "code",
   "execution_count": 20,
   "metadata": {},
   "outputs": [
    {
     "name": "stdout",
     "output_type": "stream",
     "text": [
      "                    \n",
      "pred2                Buy Sell\n",
      "  0.0188991147382957 312  198\n",
      "  0.977683146780497  249  247\n"
     ]
    },
    {
     "data": {
      "text/html": [
       "0.555666003976143"
      ],
      "text/latex": [
       "0.555666003976143"
      ],
      "text/markdown": [
       "0.555666003976143"
      ],
      "text/plain": [
       "[1] 0.555666"
      ]
     },
     "metadata": {},
     "output_type": "display_data"
    },
    {
     "name": "stdout",
     "output_type": "stream",
     "text": [
      "                    \n",
      "pred2                Buy Sell\n",
      "  0.0188991147382957  79   49\n",
      "  0.977683146780497   60   64\n"
     ]
    },
    {
     "data": {
      "text/html": [
       "0.567460317460317"
      ],
      "text/latex": [
       "0.567460317460317"
      ],
      "text/markdown": [
       "0.567460317460317"
      ],
      "text/plain": [
       "[1] 0.5674603"
      ]
     },
     "metadata": {},
     "output_type": "display_data"
    }
   ],
   "source": [
    "#Predictions, confusion matrix and precision for ANN (Training and Testing)\n",
    "pred2<-predict(n,newdata=train)\n",
    "tab2<-table(pred2,train$B.S)\n",
    "print(tab2)\n",
    "sum(diag(tab2))/sum(tab2)\n",
    "\n",
    "pred2<-predict(n,newdata=validate)\n",
    "tab2<-table(pred2,validate$B.S)\n",
    "print(tab2)\n",
    "sum(diag(tab2))/sum(tab2)"
   ]
  },
  {
   "cell_type": "code",
   "execution_count": 21,
   "metadata": {},
   "outputs": [
    {
     "name": "stdout",
     "output_type": "stream",
     "text": [
      "         \n",
      "predicted Buy Sell\n",
      "     Buy  507   60\n",
      "     Sell  54  385\n"
     ]
    },
    {
     "data": {
      "text/html": [
       "0.886679920477137"
      ],
      "text/latex": [
       "0.886679920477137"
      ],
      "text/markdown": [
       "0.886679920477137"
      ],
      "text/plain": [
       "[1] 0.8866799"
      ]
     },
     "metadata": {},
     "output_type": "display_data"
    },
    {
     "name": "stdout",
     "output_type": "stream",
     "text": [
      "         \n",
      "predicted Buy Sell\n",
      "     Buy  507   60\n",
      "     Sell  54  385\n"
     ]
    },
    {
     "data": {
      "text/html": [
       "0.886679920477137"
      ],
      "text/latex": [
       "0.886679920477137"
      ],
      "text/markdown": [
       "0.886679920477137"
      ],
      "text/plain": [
       "[1] 0.8866799"
      ]
     },
     "metadata": {},
     "output_type": "display_data"
    }
   ],
   "source": [
    "#Predictions, confusion matrix and precision for SVM (Training and Testing)\n",
    "predicted<-predict(mymodel2,newdata=train)\n",
    "matrix2<-table(predicted,train$B.S)\n",
    "print(matrix2)\n",
    "sum(diag(matrix2))/sum(matrix2)\n",
    "\n",
    "predicted<-predict(mymodel2,newdata=train)\n",
    "matrix2<-table(predicted,train$B.S)\n",
    "print(matrix2)\n",
    "sum(diag(matrix2))/sum(matrix2)"
   ]
  },
  {
   "cell_type": "code",
   "execution_count": 22,
   "metadata": {},
   "outputs": [
    {
     "name": "stdout",
     "output_type": "stream",
     "text": [
      "   \n",
      "      0   1\n",
      "  0 153 175\n",
      "  1 284 376\n"
     ]
    },
    {
     "data": {
      "text/html": [
       "0.535425101214575"
      ],
      "text/latex": [
       "0.535425101214575"
      ],
      "text/markdown": [
       "0.535425101214575"
      ],
      "text/plain": [
       "[1] 0.5354251"
      ]
     },
     "metadata": {},
     "output_type": "display_data"
    },
    {
     "name": "stdout",
     "output_type": "stream",
     "text": [
      "   \n",
      "     0  1\n",
      "  0 36 43\n",
      "  1 76 95\n"
     ]
    },
    {
     "data": {
      "text/html": [
       "0.524"
      ],
      "text/latex": [
       "0.524"
      ],
      "text/markdown": [
       "0.524"
      ],
      "text/plain": [
       "[1] 0.524"
      ]
     },
     "metadata": {},
     "output_type": "display_data"
    }
   ],
   "source": [
    "#Predictions, confusion matrix and precision for SMA (Training and Testing)\n",
    "trainingsma<-sma[2:1007,]\n",
    "testingsma<-sma[1008:1257,]\n",
    "\n",
    "trainingTA<-DJ[2:1007,]\n",
    "testingTA<-DJ[1008:1257,]\n",
    "\n",
    "trainingsma<-as.data.frame(trainingsma)\n",
    "testingsma<-as.data.frame(testingsma)\n",
    "\n",
    "matsma<-table(trainingsma$SIGNAL,trainingTA$ANN)\n",
    "print(matsma)\n",
    "sum(diag(matsma))/sum(matsma)\n",
    "\n",
    "matsma<-table(testingsma$SIGNAL,testingTA$ANN)\n",
    "print(matsma)\n",
    "sum(diag(matsma))/sum(matsma)\n"
   ]
  },
  {
   "cell_type": "code",
   "execution_count": 23,
   "metadata": {},
   "outputs": [
    {
     "name": "stdout",
     "output_type": "stream",
     "text": [
      "   \n",
      "      0   1\n",
      "  0 232 228\n",
      "  1 197 317\n"
     ]
    },
    {
     "data": {
      "text/html": [
       "0.563655030800821"
      ],
      "text/latex": [
       "0.563655030800821"
      ],
      "text/markdown": [
       "0.563655030800821"
      ],
      "text/plain": [
       "[1] 0.563655"
      ]
     },
     "metadata": {},
     "output_type": "display_data"
    },
    {
     "name": "stdout",
     "output_type": "stream",
     "text": [
      "   \n",
      "     0  1\n",
      "  0 54 62\n",
      "  1 58 76\n"
     ]
    },
    {
     "data": {
      "text/html": [
       "0.52"
      ],
      "text/latex": [
       "0.52"
      ],
      "text/markdown": [
       "0.52"
      ],
      "text/plain": [
       "[1] 0.52"
      ]
     },
     "metadata": {},
     "output_type": "display_data"
    }
   ],
   "source": [
    "#Predictions, confusion matrix and precision for MACD (Training and Testing)\n",
    "trainingmacd<-macd[2:1007,]\n",
    "testingmacd<-macd[1008:1257,]\n",
    "\n",
    "trainingmacd<-as.data.frame(trainingmacd)\n",
    "testingmacd<-as.data.frame(testingmacd)\n",
    "\n",
    "matmacd<-table(trainingmacd$Y,trainingTA$ANN)\n",
    "print(matmacd)\n",
    "sum(diag(matmacd))/sum(matmacd)\n",
    "\n",
    "matmacd<-table(testingmacd$Y,testingTA$ANN)\n",
    "print(matmacd)\n",
    "sum(diag(matmacd))/sum(matmacd)\n",
    "\n"
   ]
  },
  {
   "cell_type": "code",
   "execution_count": 24,
   "metadata": {},
   "outputs": [
    {
     "name": "stdout",
     "output_type": "stream",
     "text": [
      "   \n",
      "      0   1\n",
      "  0 430 553\n",
      "  1   9   1\n"
     ]
    },
    {
     "data": {
      "text/html": [
       "0.434038267875126"
      ],
      "text/latex": [
       "0.434038267875126"
      ],
      "text/markdown": [
       "0.434038267875126"
      ],
      "text/plain": [
       "[1] 0.4340383"
      ]
     },
     "metadata": {},
     "output_type": "display_data"
    },
    {
     "name": "stdout",
     "output_type": "stream",
     "text": [
      "   \n",
      "      0   1\n",
      "  0 104 138\n",
      "  1   8   0\n"
     ]
    },
    {
     "data": {
      "text/html": [
       "0.416"
      ],
      "text/latex": [
       "0.416"
      ],
      "text/markdown": [
       "0.416"
      ],
      "text/plain": [
       "[1] 0.416"
      ]
     },
     "metadata": {},
     "output_type": "display_data"
    }
   ],
   "source": [
    "#Predictions, confusion matrix and precision for RSI (Training and Testing)\n",
    "trainingrsi<-rsi[2:1007,]\n",
    "testingrsi<-rsi[1008:1257,]\n",
    "\n",
    "trainingrsi<-as.data.frame(trainingrsi)\n",
    "testingrsi<-as.data.frame(testingrsi)\n",
    "\n",
    "matrsi<-table(trainingrsi$Y,trainingTA$ANN)\n",
    "print(matrsi)\n",
    "sum(diag(matrsi))/sum(matrsi)\n",
    "\n",
    "matrsi<-table(testingrsi$Y,testingTA$ANN)\n",
    "print(matrsi)\n",
    "sum(diag(matrsi))/sum(matrsi)"
   ]
  },
  {
   "cell_type": "code",
   "execution_count": 25,
   "metadata": {},
   "outputs": [
    {
     "name": "stdout",
     "output_type": "stream",
     "text": [
      "   \n",
      "      0   1\n",
      "  0 169 142\n",
      "  1 267 409\n"
     ]
    },
    {
     "data": {
      "text/html": [
       "0.585612968591692"
      ],
      "text/latex": [
       "0.585612968591692"
      ],
      "text/markdown": [
       "0.585612968591692"
      ],
      "text/plain": [
       "[1] 0.585613"
      ]
     },
     "metadata": {},
     "output_type": "display_data"
    },
    {
     "name": "stdout",
     "output_type": "stream",
     "text": [
      "   \n",
      "      0   1\n",
      "  0  41  30\n",
      "  1  71 108\n"
     ]
    },
    {
     "data": {
      "text/html": [
       "0.596"
      ],
      "text/latex": [
       "0.596"
      ],
      "text/markdown": [
       "0.596"
      ],
      "text/plain": [
       "[1] 0.596"
      ]
     },
     "metadata": {},
     "output_type": "display_data"
    }
   ],
   "source": [
    "#Predictions, confusion matrix and precision for ROC (Training and Testing)\n",
    "trainingroc<-roc[2:1007,]\n",
    "testingroc<-roc[1008:1257,]\n",
    "\n",
    "trainingroc<-as.data.frame(trainingroc)\n",
    "testingroc<-as.data.frame(testingroc)\n",
    "\n",
    "matroc<-table(trainingroc$y,trainingTA$ANN)\n",
    "print(matroc)\n",
    "sum(diag(matroc))/sum(matroc)\n",
    "\n",
    "matroc<-table(testingroc$y,testingTA$ANN)\n",
    "print(matroc)\n",
    "sum(diag(matroc))/sum(matroc)"
   ]
  },
  {
   "cell_type": "code",
   "execution_count": 26,
   "metadata": {},
   "outputs": [
    {
     "data": {
      "text/html": [
       "<style>\n",
       ".list-inline {list-style: none; margin:0; padding: 0}\n",
       ".list-inline>li {display: inline-block}\n",
       ".list-inline>li:not(:last-child)::after {content: \"\\00b7\"; padding: 0 .5ex}\n",
       "</style>\n",
       "<ol class=list-inline><li>1</li><li>1</li><li>1</li><li>0</li><li>1</li><li>1</li></ol>\n"
      ],
      "text/latex": [
       "\\begin{enumerate*}\n",
       "\\item 1\n",
       "\\item 1\n",
       "\\item 1\n",
       "\\item 0\n",
       "\\item 1\n",
       "\\item 1\n",
       "\\end{enumerate*}\n"
      ],
      "text/markdown": [
       "1. 1\n",
       "2. 1\n",
       "3. 1\n",
       "4. 0\n",
       "5. 1\n",
       "6. 1\n",
       "\n",
       "\n"
      ],
      "text/plain": [
       "[1] 1 1 1 0 1 1"
      ]
     },
     "metadata": {},
     "output_type": "display_data"
    },
    {
     "data": {
      "text/html": [
       "4.32625907124042"
      ],
      "text/latex": [
       "4.32625907124042"
      ],
      "text/markdown": [
       "4.32625907124042"
      ],
      "text/plain": [
       "[1] 4.326259"
      ]
     },
     "metadata": {},
     "output_type": "display_data"
    }
   ],
   "source": [
    "#Calculation of Returns and Performances obtained by CART\n",
    "#Generating Signals\n",
    "RetCart<-ifelse(testPred==\"Buy\",1,0)\n",
    "head(RetCart)\n",
    "#Return Calculation\n",
    "z=252\n",
    "i=1\n",
    "accumulated=integer(z)\n",
    "for(i in 1:z){\n",
    "    accumulated[i] <- RetCart[i]*validate$Returns[i]\n",
    "    i<-i+1\n",
    "}\n",
    "accumulated<-accumulated/100\n",
    "\n",
    "a=1\n",
    "tot=1\n",
    "for(a in 1:252){\n",
    "    tot<-tot*(1+accumulated[a])\n",
    "    a<-a+1}\n",
    "\n",
    "tot-1"
   ]
  },
  {
   "cell_type": "code",
   "execution_count": 27,
   "metadata": {},
   "outputs": [
    {
     "data": {
      "text/html": [
       "-5.16785379904305"
      ],
      "text/latex": [
       "-5.16785379904305"
      ],
      "text/markdown": [
       "-5.16785379904305"
      ],
      "text/plain": [
       "[1] -5.167854"
      ]
     },
     "metadata": {},
     "output_type": "display_data"
    }
   ],
   "source": [
    "#Sharp Ratio(CART)\n",
    "SP<- getSymbols(\"^GSPC\", from=\"2016-01-01\", to = \"2021-01-01\", auto.assign = FALSE)\n",
    "\n",
    "SP<-SP[1007:1259,]\n",
    "\n",
    "Returns<-numeric(1259)\n",
    "Returns  <- 100 * (Ad(SP) - lag(Ad(SP), 1)) / lag(Ad(SP),1)\n",
    "SP<-cbind(SP,Returns)\n",
    "names(SP)[7]<-\"Returns\"\n",
    "\n",
    "SP<- na.omit(SP)\n",
    "\n",
    "SR<-(mean(accumulated)-mean(SP$Returns))/sd(accumulated)\n",
    "SR"
   ]
  },
  {
   "cell_type": "code",
   "execution_count": 28,
   "metadata": {},
   "outputs": [
    {
     "data": {
      "text/html": [
       "<style>\n",
       ".list-inline {list-style: none; margin:0; padding: 0}\n",
       ".list-inline>li {display: inline-block}\n",
       ".list-inline>li:not(:last-child)::after {content: \"\\00b7\"; padding: 0 .5ex}\n",
       "</style>\n",
       "<ol class=list-inline><li>1</li><li>1</li><li>1</li><li>0</li><li>1</li><li>1</li></ol>\n"
      ],
      "text/latex": [
       "\\begin{enumerate*}\n",
       "\\item 1\n",
       "\\item 1\n",
       "\\item 1\n",
       "\\item 0\n",
       "\\item 1\n",
       "\\item 1\n",
       "\\end{enumerate*}\n"
      ],
      "text/markdown": [
       "1. 1\n",
       "2. 1\n",
       "3. 1\n",
       "4. 0\n",
       "5. 1\n",
       "6. 1\n",
       "\n",
       "\n"
      ],
      "text/plain": [
       "[1] 1 1 1 0 1 1"
      ]
     },
     "metadata": {},
     "output_type": "display_data"
    },
    {
     "data": {
      "text/html": [
       "4.32625907124042"
      ],
      "text/latex": [
       "4.32625907124042"
      ],
      "text/markdown": [
       "4.32625907124042"
      ],
      "text/plain": [
       "[1] 4.326259"
      ]
     },
     "metadata": {},
     "output_type": "display_data"
    }
   ],
   "source": [
    "#Calculation of Returns and Performances obtained by C5.0\n",
    "RetC5<-ifelse(p2==\"Buy\",1,0)\n",
    "head(RetC5)\n",
    "\n",
    "z=252\n",
    "i=1\n",
    "accumulated=integer(z)\n",
    "for(i in 1:z){\n",
    "    accumulated[i] <- RetC5[i]*validate$Returns[i]\n",
    "    i<-i+1\n",
    "}\n",
    "accumulated<-accumulated/100\n",
    "\n",
    "a=1\n",
    "tot=1\n",
    "for(a in 1:252){\n",
    "    tot<-tot*(1+accumulated[a])\n",
    "    a<-a+1}\n",
    "\n",
    "tot-1"
   ]
  },
  {
   "cell_type": "code",
   "execution_count": 29,
   "metadata": {},
   "outputs": [
    {
     "data": {
      "text/html": [
       "-5.16785379904305"
      ],
      "text/latex": [
       "-5.16785379904305"
      ],
      "text/markdown": [
       "-5.16785379904305"
      ],
      "text/plain": [
       "[1] -5.167854"
      ]
     },
     "metadata": {},
     "output_type": "display_data"
    }
   ],
   "source": [
    "#Sharp Ratio(C5.0)\n",
    "SR<-(mean(accumulated)-mean(SP$Returns))/sd(accumulated)\n",
    "SR"
   ]
  },
  {
   "cell_type": "code",
   "execution_count": 30,
   "metadata": {},
   "outputs": [
    {
     "data": {
      "text/html": [
       "<table class=\"dataframe\">\n",
       "<caption>A data.frame: 253 × 1</caption>\n",
       "<thead>\n",
       "\t<tr><th></th><th scope=col>Prediction</th></tr>\n",
       "\t<tr><th></th><th scope=col>&lt;fct&gt;</th></tr>\n",
       "</thead>\n",
       "<tbody>\n",
       "\t<tr><th scope=row>2020-01-02</th><td>Buy </td></tr>\n",
       "\t<tr><th scope=row>2020-01-03</th><td>Buy </td></tr>\n",
       "\t<tr><th scope=row>2020-01-06</th><td>Buy </td></tr>\n",
       "\t<tr><th scope=row>2020-01-07</th><td>Sell</td></tr>\n",
       "\t<tr><th scope=row>2020-01-08</th><td>Buy </td></tr>\n",
       "\t<tr><th scope=row>2020-01-09</th><td>Buy </td></tr>\n",
       "\t<tr><th scope=row>2020-01-10</th><td>Sell</td></tr>\n",
       "\t<tr><th scope=row>2020-01-13</th><td>Buy </td></tr>\n",
       "\t<tr><th scope=row>2020-01-14</th><td>Buy </td></tr>\n",
       "\t<tr><th scope=row>2020-01-15</th><td>Buy </td></tr>\n",
       "\t<tr><th scope=row>2020-01-16</th><td>Buy </td></tr>\n",
       "\t<tr><th scope=row>2020-01-17</th><td>Buy </td></tr>\n",
       "\t<tr><th scope=row>2020-01-21</th><td>Sell</td></tr>\n",
       "\t<tr><th scope=row>2020-01-22</th><td>Sell</td></tr>\n",
       "\t<tr><th scope=row>2020-01-23</th><td>Buy </td></tr>\n",
       "\t<tr><th scope=row>2020-01-24</th><td>Sell</td></tr>\n",
       "\t<tr><th scope=row>2020-01-27</th><td>Sell</td></tr>\n",
       "\t<tr><th scope=row>2020-01-28</th><td>Buy </td></tr>\n",
       "\t<tr><th scope=row>2020-01-29</th><td>Sell</td></tr>\n",
       "\t<tr><th scope=row>2020-01-30</th><td>Buy </td></tr>\n",
       "\t<tr><th scope=row>2020-01-31</th><td>Sell</td></tr>\n",
       "\t<tr><th scope=row>2020-02-03</th><td>Buy </td></tr>\n",
       "\t<tr><th scope=row>2020-02-04</th><td>Buy </td></tr>\n",
       "\t<tr><th scope=row>2020-02-05</th><td>Buy </td></tr>\n",
       "\t<tr><th scope=row>2020-02-06</th><td>Sell</td></tr>\n",
       "\t<tr><th scope=row>2020-02-07</th><td>Sell</td></tr>\n",
       "\t<tr><th scope=row>2020-02-10</th><td>Buy </td></tr>\n",
       "\t<tr><th scope=row>2020-02-11</th><td>Sell</td></tr>\n",
       "\t<tr><th scope=row>2020-02-12</th><td>Buy </td></tr>\n",
       "\t<tr><th scope=row>2020-02-13</th><td>Sell</td></tr>\n",
       "\t<tr><th scope=row>...</th><td>...</td></tr>\n",
       "\t<tr><th scope=row>2020-11-18</th><td>Sell</td></tr>\n",
       "\t<tr><th scope=row>2020-11-19</th><td>Buy </td></tr>\n",
       "\t<tr><th scope=row>2020-11-20</th><td>Sell</td></tr>\n",
       "\t<tr><th scope=row>2020-11-23</th><td>Buy </td></tr>\n",
       "\t<tr><th scope=row>2020-11-24</th><td>Buy </td></tr>\n",
       "\t<tr><th scope=row>2020-11-25</th><td>Sell</td></tr>\n",
       "\t<tr><th scope=row>2020-11-27</th><td>Buy </td></tr>\n",
       "\t<tr><th scope=row>2020-11-30</th><td>Sell</td></tr>\n",
       "\t<tr><th scope=row>2020-12-01</th><td>Buy </td></tr>\n",
       "\t<tr><th scope=row>2020-12-02</th><td>Buy </td></tr>\n",
       "\t<tr><th scope=row>2020-12-03</th><td>Buy </td></tr>\n",
       "\t<tr><th scope=row>2020-12-04</th><td>Buy </td></tr>\n",
       "\t<tr><th scope=row>2020-12-07</th><td>Sell</td></tr>\n",
       "\t<tr><th scope=row>2020-12-08</th><td>Buy </td></tr>\n",
       "\t<tr><th scope=row>2020-12-09</th><td>Sell</td></tr>\n",
       "\t<tr><th scope=row>2020-12-10</th><td>Sell</td></tr>\n",
       "\t<tr><th scope=row>2020-12-11</th><td>Buy </td></tr>\n",
       "\t<tr><th scope=row>2020-12-14</th><td>Sell</td></tr>\n",
       "\t<tr><th scope=row>2020-12-15</th><td>Buy </td></tr>\n",
       "\t<tr><th scope=row>2020-12-16</th><td>Sell</td></tr>\n",
       "\t<tr><th scope=row>2020-12-17</th><td>Buy </td></tr>\n",
       "\t<tr><th scope=row>2020-12-18</th><td>Sell</td></tr>\n",
       "\t<tr><th scope=row>2020-12-21</th><td>Sell</td></tr>\n",
       "\t<tr><th scope=row>2020-12-22</th><td>Sell</td></tr>\n",
       "\t<tr><th scope=row>2020-12-23</th><td>Buy </td></tr>\n",
       "\t<tr><th scope=row>2020-12-24</th><td>Buy </td></tr>\n",
       "\t<tr><th scope=row>2020-12-28</th><td>Buy </td></tr>\n",
       "\t<tr><th scope=row>2020-12-29</th><td>Sell</td></tr>\n",
       "\t<tr><th scope=row>2020-12-30</th><td>Buy </td></tr>\n",
       "\t<tr><th scope=row>NA</th><td>NA  </td></tr>\n",
       "</tbody>\n",
       "</table>\n"
      ],
      "text/latex": [
       "A data.frame: 253 × 1\n",
       "\\begin{tabular}{r|l}\n",
       "  & Prediction\\\\\n",
       "  & <fct>\\\\\n",
       "\\hline\n",
       "\t2020-01-02 & Buy \\\\\n",
       "\t2020-01-03 & Buy \\\\\n",
       "\t2020-01-06 & Buy \\\\\n",
       "\t2020-01-07 & Sell\\\\\n",
       "\t2020-01-08 & Buy \\\\\n",
       "\t2020-01-09 & Buy \\\\\n",
       "\t2020-01-10 & Sell\\\\\n",
       "\t2020-01-13 & Buy \\\\\n",
       "\t2020-01-14 & Buy \\\\\n",
       "\t2020-01-15 & Buy \\\\\n",
       "\t2020-01-16 & Buy \\\\\n",
       "\t2020-01-17 & Buy \\\\\n",
       "\t2020-01-21 & Sell\\\\\n",
       "\t2020-01-22 & Sell\\\\\n",
       "\t2020-01-23 & Buy \\\\\n",
       "\t2020-01-24 & Sell\\\\\n",
       "\t2020-01-27 & Sell\\\\\n",
       "\t2020-01-28 & Buy \\\\\n",
       "\t2020-01-29 & Sell\\\\\n",
       "\t2020-01-30 & Buy \\\\\n",
       "\t2020-01-31 & Sell\\\\\n",
       "\t2020-02-03 & Buy \\\\\n",
       "\t2020-02-04 & Buy \\\\\n",
       "\t2020-02-05 & Buy \\\\\n",
       "\t2020-02-06 & Sell\\\\\n",
       "\t2020-02-07 & Sell\\\\\n",
       "\t2020-02-10 & Buy \\\\\n",
       "\t2020-02-11 & Sell\\\\\n",
       "\t2020-02-12 & Buy \\\\\n",
       "\t2020-02-13 & Sell\\\\\n",
       "\t... & ...\\\\\n",
       "\t2020-11-18 & Sell\\\\\n",
       "\t2020-11-19 & Buy \\\\\n",
       "\t2020-11-20 & Sell\\\\\n",
       "\t2020-11-23 & Buy \\\\\n",
       "\t2020-11-24 & Buy \\\\\n",
       "\t2020-11-25 & Sell\\\\\n",
       "\t2020-11-27 & Buy \\\\\n",
       "\t2020-11-30 & Sell\\\\\n",
       "\t2020-12-01 & Buy \\\\\n",
       "\t2020-12-02 & Buy \\\\\n",
       "\t2020-12-03 & Buy \\\\\n",
       "\t2020-12-04 & Buy \\\\\n",
       "\t2020-12-07 & Sell\\\\\n",
       "\t2020-12-08 & Buy \\\\\n",
       "\t2020-12-09 & Sell\\\\\n",
       "\t2020-12-10 & Sell\\\\\n",
       "\t2020-12-11 & Buy \\\\\n",
       "\t2020-12-14 & Sell\\\\\n",
       "\t2020-12-15 & Buy \\\\\n",
       "\t2020-12-16 & Sell\\\\\n",
       "\t2020-12-17 & Buy \\\\\n",
       "\t2020-12-18 & Sell\\\\\n",
       "\t2020-12-21 & Sell\\\\\n",
       "\t2020-12-22 & Sell\\\\\n",
       "\t2020-12-23 & Buy \\\\\n",
       "\t2020-12-24 & Buy \\\\\n",
       "\t2020-12-28 & Buy \\\\\n",
       "\t2020-12-29 & Sell\\\\\n",
       "\t2020-12-30 & Buy \\\\\n",
       "\tNA & NA  \\\\\n",
       "\\end{tabular}\n"
      ],
      "text/markdown": [
       "\n",
       "A data.frame: 253 × 1\n",
       "\n",
       "| <!--/--> | Prediction &lt;fct&gt; |\n",
       "|---|---|\n",
       "| 2020-01-02 | Buy  |\n",
       "| 2020-01-03 | Buy  |\n",
       "| 2020-01-06 | Buy  |\n",
       "| 2020-01-07 | Sell |\n",
       "| 2020-01-08 | Buy  |\n",
       "| 2020-01-09 | Buy  |\n",
       "| 2020-01-10 | Sell |\n",
       "| 2020-01-13 | Buy  |\n",
       "| 2020-01-14 | Buy  |\n",
       "| 2020-01-15 | Buy  |\n",
       "| 2020-01-16 | Buy  |\n",
       "| 2020-01-17 | Buy  |\n",
       "| 2020-01-21 | Sell |\n",
       "| 2020-01-22 | Sell |\n",
       "| 2020-01-23 | Buy  |\n",
       "| 2020-01-24 | Sell |\n",
       "| 2020-01-27 | Sell |\n",
       "| 2020-01-28 | Buy  |\n",
       "| 2020-01-29 | Sell |\n",
       "| 2020-01-30 | Buy  |\n",
       "| 2020-01-31 | Sell |\n",
       "| 2020-02-03 | Buy  |\n",
       "| 2020-02-04 | Buy  |\n",
       "| 2020-02-05 | Buy  |\n",
       "| 2020-02-06 | Sell |\n",
       "| 2020-02-07 | Sell |\n",
       "| 2020-02-10 | Buy  |\n",
       "| 2020-02-11 | Sell |\n",
       "| 2020-02-12 | Buy  |\n",
       "| 2020-02-13 | Sell |\n",
       "| ... | ... |\n",
       "| 2020-11-18 | Sell |\n",
       "| 2020-11-19 | Buy  |\n",
       "| 2020-11-20 | Sell |\n",
       "| 2020-11-23 | Buy  |\n",
       "| 2020-11-24 | Buy  |\n",
       "| 2020-11-25 | Sell |\n",
       "| 2020-11-27 | Buy  |\n",
       "| 2020-11-30 | Sell |\n",
       "| 2020-12-01 | Buy  |\n",
       "| 2020-12-02 | Buy  |\n",
       "| 2020-12-03 | Buy  |\n",
       "| 2020-12-04 | Buy  |\n",
       "| 2020-12-07 | Sell |\n",
       "| 2020-12-08 | Buy  |\n",
       "| 2020-12-09 | Sell |\n",
       "| 2020-12-10 | Sell |\n",
       "| 2020-12-11 | Buy  |\n",
       "| 2020-12-14 | Sell |\n",
       "| 2020-12-15 | Buy  |\n",
       "| 2020-12-16 | Sell |\n",
       "| 2020-12-17 | Buy  |\n",
       "| 2020-12-18 | Sell |\n",
       "| 2020-12-21 | Sell |\n",
       "| 2020-12-22 | Sell |\n",
       "| 2020-12-23 | Buy  |\n",
       "| 2020-12-24 | Buy  |\n",
       "| 2020-12-28 | Buy  |\n",
       "| 2020-12-29 | Sell |\n",
       "| 2020-12-30 | Buy  |\n",
       "| NA | NA   |\n",
       "\n"
      ],
      "text/plain": [
       "           Prediction\n",
       "2020-01-02 Buy       \n",
       "2020-01-03 Buy       \n",
       "2020-01-06 Buy       \n",
       "2020-01-07 Sell      \n",
       "2020-01-08 Buy       \n",
       "2020-01-09 Buy       \n",
       "2020-01-10 Sell      \n",
       "2020-01-13 Buy       \n",
       "2020-01-14 Buy       \n",
       "2020-01-15 Buy       \n",
       "2020-01-16 Buy       \n",
       "2020-01-17 Buy       \n",
       "2020-01-21 Sell      \n",
       "2020-01-22 Sell      \n",
       "2020-01-23 Buy       \n",
       "2020-01-24 Sell      \n",
       "2020-01-27 Sell      \n",
       "2020-01-28 Buy       \n",
       "2020-01-29 Sell      \n",
       "2020-01-30 Buy       \n",
       "2020-01-31 Sell      \n",
       "2020-02-03 Buy       \n",
       "2020-02-04 Buy       \n",
       "2020-02-05 Buy       \n",
       "2020-02-06 Sell      \n",
       "2020-02-07 Sell      \n",
       "2020-02-10 Buy       \n",
       "2020-02-11 Sell      \n",
       "2020-02-12 Buy       \n",
       "2020-02-13 Sell      \n",
       "...        ...       \n",
       "2020-11-18 Sell      \n",
       "2020-11-19 Buy       \n",
       "2020-11-20 Sell      \n",
       "2020-11-23 Buy       \n",
       "2020-11-24 Buy       \n",
       "2020-11-25 Sell      \n",
       "2020-11-27 Buy       \n",
       "2020-11-30 Sell      \n",
       "2020-12-01 Buy       \n",
       "2020-12-02 Buy       \n",
       "2020-12-03 Buy       \n",
       "2020-12-04 Buy       \n",
       "2020-12-07 Sell      \n",
       "2020-12-08 Buy       \n",
       "2020-12-09 Sell      \n",
       "2020-12-10 Sell      \n",
       "2020-12-11 Buy       \n",
       "2020-12-14 Sell      \n",
       "2020-12-15 Buy       \n",
       "2020-12-16 Sell      \n",
       "2020-12-17 Buy       \n",
       "2020-12-18 Sell      \n",
       "2020-12-21 Sell      \n",
       "2020-12-22 Sell      \n",
       "2020-12-23 Buy       \n",
       "2020-12-24 Buy       \n",
       "2020-12-28 Buy       \n",
       "2020-12-29 Sell      \n",
       "2020-12-30 Buy       \n",
       "<NA>       NA        "
      ]
     },
     "metadata": {},
     "output_type": "display_data"
    },
    {
     "data": {
      "text/html": [
       "4.27249916087469"
      ],
      "text/latex": [
       "4.27249916087469"
      ],
      "text/markdown": [
       "4.27249916087469"
      ],
      "text/plain": [
       "[1] 4.272499"
      ]
     },
     "metadata": {},
     "output_type": "display_data"
    }
   ],
   "source": [
    "#Calculation of Returns and Performances obtained by RF\n",
    "te<-as.data.frame(Prediction)\n",
    "te\n",
    "\n",
    "Retrf<-ifelse(te$Prediction==\"Buy\",1,0)\n",
    "\n",
    "z=252\n",
    "i=1\n",
    "accumulated=integer(z)\n",
    "for(i in 1:z){\n",
    "    accumulated[i] <- Retrf[i]*validate$Returns[i]\n",
    "    i<-i+1\n",
    "}\n",
    "accumulated<-accumulated/100\n",
    "\n",
    "a=1\n",
    "tot=1\n",
    "for(a in 1:252){\n",
    "    tot<-tot*(1+accumulated[a])\n",
    "    a<-a+1}\n",
    "\n",
    "tot-1"
   ]
  },
  {
   "cell_type": "code",
   "execution_count": 31,
   "metadata": {},
   "outputs": [
    {
     "data": {
      "text/html": [
       "-5.1774899971703"
      ],
      "text/latex": [
       "-5.1774899971703"
      ],
      "text/markdown": [
       "-5.1774899971703"
      ],
      "text/plain": [
       "[1] -5.17749"
      ]
     },
     "metadata": {},
     "output_type": "display_data"
    }
   ],
   "source": [
    "#Sharp Ratio(RF)\n",
    "SR<-(mean(accumulated)-mean(SP$Returns))/sd(accumulated)\n",
    "SR"
   ]
  },
  {
   "cell_type": "code",
   "execution_count": 32,
   "metadata": {},
   "outputs": [
    {
     "data": {
      "text/html": [
       "<table class=\"dataframe\">\n",
       "<caption>A matrix: 6 × 1 of type dbl</caption>\n",
       "<tbody>\n",
       "\t<tr><th scope=row>2020-01-02</th><td>1</td></tr>\n",
       "\t<tr><th scope=row>2020-01-03</th><td>0</td></tr>\n",
       "\t<tr><th scope=row>2020-01-06</th><td>1</td></tr>\n",
       "\t<tr><th scope=row>2020-01-07</th><td>1</td></tr>\n",
       "\t<tr><th scope=row>2020-01-08</th><td>1</td></tr>\n",
       "\t<tr><th scope=row>2020-01-09</th><td>0</td></tr>\n",
       "</tbody>\n",
       "</table>\n"
      ],
      "text/latex": [
       "A matrix: 6 × 1 of type dbl\n",
       "\\begin{tabular}{r|l}\n",
       "\t2020-01-02 & 1\\\\\n",
       "\t2020-01-03 & 0\\\\\n",
       "\t2020-01-06 & 1\\\\\n",
       "\t2020-01-07 & 1\\\\\n",
       "\t2020-01-08 & 1\\\\\n",
       "\t2020-01-09 & 0\\\\\n",
       "\\end{tabular}\n"
      ],
      "text/markdown": [
       "\n",
       "A matrix: 6 × 1 of type dbl\n",
       "\n",
       "| 2020-01-02 | 1 |\n",
       "| 2020-01-03 | 0 |\n",
       "| 2020-01-06 | 1 |\n",
       "| 2020-01-07 | 1 |\n",
       "| 2020-01-08 | 1 |\n",
       "| 2020-01-09 | 0 |\n",
       "\n"
      ],
      "text/plain": [
       "           [,1]\n",
       "2020-01-02 1   \n",
       "2020-01-03 0   \n",
       "2020-01-06 1   \n",
       "2020-01-07 1   \n",
       "2020-01-08 1   \n",
       "2020-01-09 0   "
      ]
     },
     "metadata": {},
     "output_type": "display_data"
    },
    {
     "data": {
      "text/html": [
       "-0.286569228624864"
      ],
      "text/latex": [
       "-0.286569228624864"
      ],
      "text/markdown": [
       "-0.286569228624864"
      ],
      "text/plain": [
       "[1] -0.2865692"
      ]
     },
     "metadata": {},
     "output_type": "display_data"
    }
   ],
   "source": [
    "##Calculation of Returns and Performances obtained by ANN\n",
    "RetANN<-ifelse(pred2<0.5,0,1)\n",
    "head(RetANN)\n",
    "\n",
    "z=252\n",
    "i=1\n",
    "accumulated=integer(z)\n",
    "for(i in 1:z){\n",
    "    accumulated[i] <- RetANN[i]*validate$Returns[i]\n",
    "    i<-i+1\n",
    "}\n",
    "accumulated<-accumulated/100\n",
    "\n",
    "a=1\n",
    "tot=1\n",
    "for(a in 1:252){\n",
    "    tot<-tot*(1+accumulated[a])\n",
    "    a<-a+1}\n",
    "\n",
    "tot-1"
   ]
  },
  {
   "cell_type": "code",
   "execution_count": 33,
   "metadata": {},
   "outputs": [
    {
     "data": {
      "text/html": [
       "-4.65011176472989"
      ],
      "text/latex": [
       "-4.65011176472989"
      ],
      "text/markdown": [
       "-4.65011176472989"
      ],
      "text/plain": [
       "[1] -4.650112"
      ]
     },
     "metadata": {},
     "output_type": "display_data"
    }
   ],
   "source": [
    "#Sharp Ratio(ANN)\n",
    "SR<-(mean(accumulated)-mean(SP$Returns))/sd(accumulated)\n",
    "SR"
   ]
  },
  {
   "cell_type": "code",
   "execution_count": 34,
   "metadata": {},
   "outputs": [
    {
     "data": {
      "text/html": [
       "<style>\n",
       ".list-inline {list-style: none; margin:0; padding: 0}\n",
       ".list-inline>li {display: inline-block}\n",
       ".list-inline>li:not(:last-child)::after {content: \"\\00b7\"; padding: 0 .5ex}\n",
       "</style>\n",
       "<ol class=list-inline><li>1</li><li>0</li><li>0</li><li>0</li><li>1</li><li>1</li></ol>\n"
      ],
      "text/latex": [
       "\\begin{enumerate*}\n",
       "\\item 1\n",
       "\\item 0\n",
       "\\item 0\n",
       "\\item 0\n",
       "\\item 1\n",
       "\\item 1\n",
       "\\end{enumerate*}\n"
      ],
      "text/markdown": [
       "1. 1\n",
       "2. 0\n",
       "3. 0\n",
       "4. 0\n",
       "5. 1\n",
       "6. 1\n",
       "\n",
       "\n"
      ],
      "text/plain": [
       "[1] 1 0 0 0 1 1"
      ]
     },
     "metadata": {},
     "output_type": "display_data"
    },
    {
     "data": {
      "text/html": [
       "1.12724259458054"
      ],
      "text/latex": [
       "1.12724259458054"
      ],
      "text/markdown": [
       "1.12724259458054"
      ],
      "text/plain": [
       "[1] 1.127243"
      ]
     },
     "metadata": {},
     "output_type": "display_data"
    }
   ],
   "source": [
    "##Calculation of Returns and Performances obtained by SVM\n",
    "RetSVM<-ifelse(predicted==\"Buy\",1,0)\n",
    "head(RetSVM)\n",
    "\n",
    "z=250\n",
    "i=1\n",
    "accumulated=integer(z)\n",
    "for(i in 1:z){\n",
    "    accumulated[i] <- RetSVM[i]*train$Returns[i]\n",
    "    i<-i+1\n",
    "}\n",
    "accumulated<-accumulated/100\n",
    "\n",
    "a=1\n",
    "tot=1\n",
    "for(a in 1:250){\n",
    "    tot<-tot*(1+accumulated[a])\n",
    "    a<-a+1}\n",
    "\n",
    "tot-1"
   ]
  },
  {
   "cell_type": "code",
   "execution_count": 35,
   "metadata": {},
   "outputs": [
    {
     "data": {
      "text/html": [
       "-15.9517075297408"
      ],
      "text/latex": [
       "-15.9517075297408"
      ],
      "text/markdown": [
       "-15.9517075297408"
      ],
      "text/plain": [
       "[1] -15.95171"
      ]
     },
     "metadata": {},
     "output_type": "display_data"
    }
   ],
   "source": [
    "#Sharp Ratio(SVM)\n",
    "SR<-(mean(accumulated)-mean(SP$Returns))/sd(accumulated)\n",
    "SR"
   ]
  },
  {
   "cell_type": "code",
   "execution_count": 36,
   "metadata": {},
   "outputs": [
    {
     "data": {
      "text/html": [
       "0.348362374943313"
      ],
      "text/latex": [
       "0.348362374943313"
      ],
      "text/markdown": [
       "0.348362374943313"
      ],
      "text/plain": [
       "[1] 0.3483624"
      ]
     },
     "metadata": {},
     "output_type": "display_data"
    },
    {
     "data": {
      "text/html": [
       "-6.94463455842371"
      ],
      "text/latex": [
       "-6.94463455842371"
      ],
      "text/markdown": [
       "-6.94463455842371"
      ],
      "text/plain": [
       "[1] -6.944635"
      ]
     },
     "metadata": {},
     "output_type": "display_data"
    }
   ],
   "source": [
    "#Calculation of Returns and Performances obtained by SMA\n",
    "z=250\n",
    "i=1\n",
    "accumulated=integer(z)\n",
    "for(i in 1:z){\n",
    "    accumulated[i] <- testingsma$SIGNAL[i]*testingTA$Returns[i]\n",
    "    i<-i+1\n",
    "}\n",
    "accumulated<-accumulated/100\n",
    "\n",
    "a=1\n",
    "tot=1\n",
    "for(a in 1:250){\n",
    "    tot<-tot*(1+accumulated[a])\n",
    "    a<-a+1}\n",
    "\n",
    "tot-1\n",
    "\n",
    "#Sharp Ratio(SMA)\n",
    "SR<-(mean(accumulated)-mean(SP$Returns))/sd(accumulated)\n",
    "SR"
   ]
  },
  {
   "cell_type": "code",
   "execution_count": 37,
   "metadata": {},
   "outputs": [
    {
     "data": {
      "text/html": [
       "0.387387864099995"
      ],
      "text/latex": [
       "0.387387864099995"
      ],
      "text/markdown": [
       "0.387387864099995"
      ],
      "text/plain": [
       "[1] 0.3873879"
      ]
     },
     "metadata": {},
     "output_type": "display_data"
    },
    {
     "data": {
      "text/html": [
       "-6.36211570495382"
      ],
      "text/latex": [
       "-6.36211570495382"
      ],
      "text/markdown": [
       "-6.36211570495382"
      ],
      "text/plain": [
       "[1] -6.362116"
      ]
     },
     "metadata": {},
     "output_type": "display_data"
    }
   ],
   "source": [
    "#Calculation of Returns and Performances obtained by MACD\n",
    "z=250\n",
    "i=1\n",
    "accumulated=integer(z)\n",
    "for(i in 1:z){\n",
    "    accumulated[i] <- testingmacd$Y[i]*testingTA$Returns[i]\n",
    "    i<-i+1\n",
    "}\n",
    "accumulated<-accumulated/100\n",
    "\n",
    "a=1\n",
    "tot=1\n",
    "for(a in 1:250){\n",
    "    tot<-tot*(1+accumulated[a])\n",
    "    a<-a+1}\n",
    "\n",
    "tot-1\n",
    "\n",
    "#Sharp Ratio(MACD)\n",
    "SR<-(mean(accumulated)-mean(SP$Returns))/sd(accumulated)\n",
    "SR"
   ]
  },
  {
   "cell_type": "code",
   "execution_count": 38,
   "metadata": {},
   "outputs": [
    {
     "data": {
      "text/html": [
       "-0.363148044767657"
      ],
      "text/latex": [
       "-0.363148044767657"
      ],
      "text/markdown": [
       "-0.363148044767657"
      ],
      "text/plain": [
       "[1] -0.363148"
      ]
     },
     "metadata": {},
     "output_type": "display_data"
    },
    {
     "data": {
      "text/html": [
       "-6.80780312352341"
      ],
      "text/latex": [
       "-6.80780312352341"
      ],
      "text/markdown": [
       "-6.80780312352341"
      ],
      "text/plain": [
       "[1] -6.807803"
      ]
     },
     "metadata": {},
     "output_type": "display_data"
    }
   ],
   "source": [
    "#Calculation of Returns and Performances obtained by RSI\n",
    "z=250\n",
    "i=1\n",
    "accumulated=integer(z)\n",
    "for(i in 1:z){\n",
    "    accumulated[i] <- testingrsi$Y[i]*testingTA$Returns[i]\n",
    "    i<-i+1\n",
    "}\n",
    "accumulated<-accumulated/100\n",
    "\n",
    "a=1\n",
    "tot=1\n",
    "for(a in 1:250){\n",
    "    tot<-tot*(1+accumulated[a])\n",
    "    a<-a+1}\n",
    "\n",
    "tot-1\n",
    "\n",
    "#Sharp Ratio(RSI)\n",
    "SR<-(mean(accumulated)-mean(SP$Returns))/sd(accumulated)\n",
    "SR\n"
   ]
  },
  {
   "cell_type": "code",
   "execution_count": 39,
   "metadata": {},
   "outputs": [
    {
     "data": {
      "text/html": [
       "0.532524932073059"
      ],
      "text/latex": [
       "0.532524932073059"
      ],
      "text/markdown": [
       "0.532524932073059"
      ],
      "text/plain": [
       "[1] 0.5325249"
      ]
     },
     "metadata": {},
     "output_type": "display_data"
    },
    {
     "data": {
      "text/html": [
       "-7.58041311450757"
      ],
      "text/latex": [
       "-7.58041311450757"
      ],
      "text/markdown": [
       "-7.58041311450757"
      ],
      "text/plain": [
       "[1] -7.580413"
      ]
     },
     "metadata": {},
     "output_type": "display_data"
    }
   ],
   "source": [
    "#Calculation of Returns and Performances obtained by ROC\n",
    "z=250\n",
    "i=1\n",
    "accumulated=integer(z)\n",
    "for(i in 1:z){\n",
    "    accumulated[i] <- testingroc$y[i]*testingTA$Returns[i]\n",
    "    i<-i+1\n",
    "}\n",
    "accumulated<-accumulated/100\n",
    "\n",
    "a=1\n",
    "tot=1\n",
    "for(a in 1:250){\n",
    "    tot<-tot*(1+accumulated[a])\n",
    "    a<-a+1}\n",
    "\n",
    "tot-1\n",
    "\n",
    "#Sharp Ratio(ROC)\n",
    "SR<-(mean(accumulated)-mean(SP$Returns))/sd(accumulated)\n",
    "SR"
   ]
  },
  {
   "cell_type": "code",
   "execution_count": null,
   "metadata": {},
   "outputs": [],
   "source": []
  }
 ],
 "metadata": {
  "kernelspec": {
   "display_name": "R",
   "language": "R",
   "name": "ir"
  },
  "language_info": {
   "codemirror_mode": "r",
   "file_extension": ".r",
   "mimetype": "text/x-r-source",
   "name": "R",
   "pygments_lexer": "r",
   "version": "4.1.1"
  }
 },
 "nbformat": 4,
 "nbformat_minor": 4
}
